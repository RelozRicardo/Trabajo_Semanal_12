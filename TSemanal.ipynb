{
 "cells": [
  {
   "cell_type": "markdown",
   "metadata": {
    "jp-MarkdownHeadingCollapsed": true
   },
   "source": [
    "<img src=\"./logo_UTN.svg\" align=\"right\" width=\"150\" /> \n",
    "\n",
    "#### Teoría de Circuitos II\n",
    "\n",
    "# TRABAJO PRACTICO LABORATORIO\n",
    "#### Autor: RICARDO RELOZ\n"
   ]
  },
  {
   "cell_type": "markdown",
   "metadata": {},
   "source": [
    "# Trabajo semanal 12 - Síntesis de cuadripolos simplemente cargados\n",
    "\n",
    "## 1) Dada la siguiente transferencia de tensiones:\n",
    "## Sintetizar un cuadripolo que cumpla con los siguientes parámetros:\n",
    "<img src=\"./ej1.png\" align=\"left\" width=\"500\" /> \n",
    "\n",
    "\\begin{equation}\n",
    "T(s) = \\frac{V_2}{V_g} = \\frac{k.s.(s^2 + 1/16 )}{ s^3 + 2.s^2 + 2.s + 1 }\n",
    "\\end{equation}\n",
    "\n",
    "### a) Sintetizar un cuadripolo pasivo sin pérdidas, que cumpla con la transferencia de tension indicada, cargando a la entrada con una impedancia como se muestra en la figura.\n",
    "\n",
    "### b) Verificar la transferencia de tension del circuito obtenido.\n",
    "### c) Hallar el valor de k que cumple con la síntesis y valor de los componentes hallados.\n",
    "\n",
    "## 2) Sintetizar un cuadripolo que implemente la siguiente transferencia de tensiones en vacío:\n",
    "<img src=\"./ej2.png\" align=\"left\" width=\"500\" /> \n",
    "\n",
    "\\begin{equation}\n",
    "T(s) = \\frac{V_2}{I_1} = \\frac{k.(s^2 + 9)}{ s^3 + 2.s^2 + 2.s + 1 }\n",
    "\\end{equation}\n",
    "\n",
    "\n",
    "### a) Sintetizar un cuadripolo pasivo sin pérdidas, que cumpla con la transimpedancia indicada, cargado a la salida con una impedancia como se muestra en la figura.\n",
    "\n",
    "### b) Verificar la transimpedancia del circuito obtenido.\n",
    "\n",
    "### c) Hallar el valor de k que cumple con la síntesis y valor de los componentes hallados.\n",
    "\n",
    "Bonus:\n",
    "\n",
    "    +20 💎 Simulación simbólica de la función transferencia \n",
    "    \n",
    "    +20 🎓 Simulación circuital de la red obtenida\n",
    "    \n",
    "    +5 🍺 Presentación en jupyter notebook\n"
   ]
  },
  {
   "cell_type": "markdown",
   "metadata": {},
   "source": [
    "## Ejercicio 1"
   ]
  },
  {
   "cell_type": "markdown",
   "metadata": {},
   "source": [
    "### Solucion:\n",
    "<img src=\"./ej1A.jpeg\" align=\"left\" width=\"500\" /> \n",
    "<img src=\"./ej1B.jpeg\" align=\"left\" width=\"500\" /> \n"
   ]
  },
  {
   "cell_type": "code",
   "execution_count": 1,
   "metadata": {},
   "outputs": [
    {
     "name": "stderr",
     "output_type": "stream",
     "text": [
      "/home/ricardo/.local/lib/python3.10/site-packages/matplotlib/projections/__init__.py:63: UserWarning: Unable to import Axes3D. This may be due to multiple versions of Matplotlib being installed (e.g. as a system package and as a pip package). As a result, the 3D projection is not available.\n",
      "  warnings.warn(\"Unable to import Axes3D. This may be due to multiple versions of \"\n"
     ]
    },
    {
     "data": {
      "text/latex": [
       "$\\displaystyle Z21(s)=\\frac{s \\left(s^{2} + 0.0625\\right)}{2 s^{2} + 1}$"
      ],
      "text/plain": [
       "<IPython.core.display.Math object>"
      ]
     },
     "metadata": {},
     "output_type": "display_data"
    },
    {
     "data": {
      "text/latex": [
       "$\\displaystyle Z11(s)=\\frac{s \\left(s^{2} + 2\\right)}{2 s^{2} + 1}$"
      ],
      "text/plain": [
       "<IPython.core.display.Math object>"
      ]
     },
     "metadata": {},
     "output_type": "display_data"
    },
    {
     "name": "stdout",
     "output_type": "stream",
     "text": [
      "\n",
      "///////////////////////////////////////////////////////////////////////////\n",
      "\n"
     ]
    },
    {
     "data": {
      "text/latex": [
       "$\\displaystyle L1=\\frac{31}{14}$"
      ],
      "text/plain": [
       "<IPython.core.display.Math object>"
      ]
     },
     "metadata": {},
     "output_type": "display_data"
    },
    {
     "data": {
      "text/latex": [
       "$\\displaystyle Yt1(s)=\\frac{14}{31 s}$"
      ],
      "text/plain": [
       "<IPython.core.display.Math object>"
      ]
     },
     "metadata": {},
     "output_type": "display_data"
    },
    {
     "data": {
      "text/latex": [
       "$\\displaystyle Yt1(s)=\\frac{14}{31 s}$"
      ],
      "text/plain": [
       "<IPython.core.display.Math object>"
      ]
     },
     "metadata": {},
     "output_type": "display_data"
    },
    {
     "data": {
      "text/latex": [
       "$\\displaystyle Y2(s)=\\frac{48 \\left(s^{2} + \\frac{1}{16}\\right)}{31 s \\left(s^{2} + 2\\right)}$"
      ],
      "text/plain": [
       "<IPython.core.display.Math object>"
      ]
     },
     "metadata": {},
     "output_type": "display_data"
    },
    {
     "name": "stdout",
     "output_type": "stream",
     "text": [
      "\n",
      "///////////////////////////////////////////////////////////////////////////\n",
      "\n"
     ]
    },
    {
     "data": {
      "text/latex": [
       "$\\displaystyle L2=\\frac{961}{48}$"
      ],
      "text/plain": [
       "<IPython.core.display.Math object>"
      ]
     },
     "metadata": {},
     "output_type": "display_data"
    },
    {
     "data": {
      "text/latex": [
       "$\\displaystyle C2=\\frac{4}{5}$"
      ],
      "text/plain": [
       "<IPython.core.display.Math object>"
      ]
     },
     "metadata": {},
     "output_type": "display_data"
    },
    {
     "data": {
      "text/latex": [
       "$\\displaystyle Zt3(s)=\\frac{5 s}{4 \\left(s^{2} + \\frac{1}{16}\\right)}$"
      ],
      "text/plain": [
       "<IPython.core.display.Math object>"
      ]
     },
     "metadata": {},
     "output_type": "display_data"
    },
    {
     "data": {
      "text/latex": [
       "$\\displaystyle Z4(s)=\\frac{31 s}{48}$"
      ],
      "text/plain": [
       "<IPython.core.display.Math object>"
      ]
     },
     "metadata": {},
     "output_type": "display_data"
    },
    {
     "name": "stdout",
     "output_type": "stream",
     "text": [
      "\n",
      "///////////////////////////////////////////////////////////////////////////\n",
      "\n"
     ]
    },
    {
     "data": {
      "text/latex": [
       "$\\displaystyle L3=\\frac{31}{48}$"
      ],
      "text/plain": [
       "<IPython.core.display.Math object>"
      ]
     },
     "metadata": {},
     "output_type": "display_data"
    },
    {
     "data": {
      "text/latex": [
       "$\\displaystyle Yt5(s)=\\frac{48}{31 s}$"
      ],
      "text/plain": [
       "<IPython.core.display.Math object>"
      ]
     },
     "metadata": {},
     "output_type": "display_data"
    },
    {
     "data": {
      "text/latex": [
       "$\\displaystyle Y6(s)=0$"
      ],
      "text/plain": [
       "<IPython.core.display.Math object>"
      ]
     },
     "metadata": {},
     "output_type": "display_data"
    },
    {
     "data": {
      "image/png": "[encoded data removed]",
      "image/svg+xml": [
       "<?xml version=\"1.0\" encoding=\"utf-8\" standalone=\"no\"?>\n",
       "<!DOCTYPE svg PUBLIC \"-//W3C//DTD SVG 1.1//EN\"\n",
       "  \"http://www.w3.org/Graphics/SVG/1.1/DTD/svg11.dtd\">\n",
       "<svg xmlns:xlink=\"http://www.w3.org/1999/xlink\" width=\"246.500981pt\" height=\"240.245pt\" viewBox=\"0 0 246.500981 240.245\" xmlns=\"http://www.w3.org/2000/svg\" version=\"1.1\">\n",
       " <metadata>\n",
       "  <rdf:RDF xmlns:dc=\"http://purl.org/dc/elements/1.1/\" xmlns:cc=\"http://creativecommons.org/ns#\" xmlns:rdf=\"http://www.w3.org/1999/02/22-rdf-syntax-ns#\">\n",
       "   <cc:Work>\n",
       "    <dc:type rdf:resource=\"http://purl.org/dc/dcmitype/StillImage\"/>\n",
       "    <dc:date>2024-10-25T01:21:36.789933</dc:date>\n",
       "    <dc:format>image/svg+xml</dc:format>\n",
       "    <dc:creator>\n",
       "     <cc:Agent>\n",
       "      <dc:title>Matplotlib v3.9.2, https://matplotlib.org/</dc:title>\n",
       "     </cc:Agent>\n",
       "    </dc:creator>\n",
       "   </cc:Work>\n",
       "  </rdf:RDF>\n",
       " </metadata>\n",
       " <defs>\n",
       "  <style type=\"text/css\">*{stroke-linejoin: round; stroke-linecap: butt}</style>\n",
       " </defs>\n",
       " <g id=\"figure_1\">\n",
       "  <g id=\"patch_1\">\n",
       "   <path d=\"M 0 240.245 \n",
       "L 246.500981 240.245 \n",
       "L 246.500981 0 \n",
       "L 0 0 \n",
       "z\n",
       "\" style=\"fill: #ffffff\"/>\n",
       "  </g>\n",
       "  <g id=\"axes_1\">\n",
       "   <g id=\"patch_2\">\n",
       "    <path d=\"M 101.600981 174.14 \n",
       "C 100.586917 174.14 99.613349 174.543265 98.896298 175.260317 \n",
       "C 98.179246 175.977368 97.775981 176.950936 97.775981 177.965 \n",
       "C 97.775981 178.979064 98.179246 179.952632 98.896298 180.669683 \n",
       "C 99.613349 181.386735 100.586917 181.79 101.600981 181.79 \n",
       "\" clip-path=\"url(#p08bcf48bad)\" style=\"fill: none; stroke: #000000; stroke-width: 2; stroke-linejoin: miter\"/>\n",
       "   </g>\n",
       "   <g id=\"patch_3\">\n",
       "    <path d=\"M 101.600981 166.49 \n",
       "C 100.586917 166.49 99.613349 166.893265 98.896298 167.610317 \n",
       "C 98.179246 168.327368 97.775981 169.300936 97.775981 170.315 \n",
       "C 97.775981 171.329064 98.179246 172.302632 98.896298 173.019683 \n",
       "C 99.613349 173.736735 100.586917 174.14 101.600981 174.14 \n",
       "\" clip-path=\"url(#p08bcf48bad)\" style=\"fill: none; stroke: #000000; stroke-width: 2; stroke-linejoin: miter\"/>\n",
       "   </g>\n",
       "   <g id=\"patch_4\">\n",
       "    <path d=\"M 101.600981 158.84 \n",
       "C 100.586917 158.84 99.613349 159.243265 98.896298 159.960317 \n",
       "C 98.179246 160.677368 97.775981 161.650936 97.775981 162.665 \n",
       "C 97.775981 163.679064 98.179246 164.652632 98.896298 165.369683 \n",
       "C 99.613349 166.086735 100.586917 166.49 101.600981 166.49 \n",
       "\" clip-path=\"url(#p08bcf48bad)\" style=\"fill: none; stroke: #000000; stroke-width: 2; stroke-linejoin: miter\"/>\n",
       "   </g>\n",
       "   <g id=\"patch_5\">\n",
       "    <path d=\"M 101.600981 151.19 \n",
       "C 100.586917 151.19 99.613349 151.593265 98.896298 152.310317 \n",
       "C 98.179246 153.027368 97.775981 154.000936 97.775981 155.015 \n",
       "C 97.775981 156.029064 98.179246 157.002632 98.896298 157.719683 \n",
       "C 99.613349 158.436735 100.586917 158.84 101.600981 158.84 \n",
       "\" clip-path=\"url(#p08bcf48bad)\" style=\"fill: none; stroke: #000000; stroke-width: 2; stroke-linejoin: miter\"/>\n",
       "   </g>\n",
       "   <g id=\"patch_6\">\n",
       "    <path d=\"M 155.150981 105.29 \n",
       "C 155.150981 104.275936 154.747716 103.302368 154.030664 102.585317 \n",
       "C 153.313613 101.868265 152.340045 101.465 151.325981 101.465 \n",
       "C 150.311917 101.465 149.338349 101.868265 148.621298 102.585317 \n",
       "C 147.904246 103.302368 147.500981 104.275936 147.500981 105.29 \n",
       "\" clip-path=\"url(#p08bcf48bad)\" style=\"fill: none; stroke: #000000; stroke-width: 2; stroke-linejoin: miter\"/>\n",
       "   </g>\n",
       "   <g id=\"patch_7\">\n",
       "    <path d=\"M 162.800981 105.29 \n",
       "C 162.800981 104.275936 162.397716 103.302368 161.680664 102.585317 \n",
       "C 160.963613 101.868265 159.990045 101.465 158.975981 101.465 \n",
       "C 157.961917 101.465 156.988349 101.868265 156.271298 102.585317 \n",
       "C 155.554246 103.302368 155.150981 104.275936 155.150981 105.29 \n",
       "\" clip-path=\"url(#p08bcf48bad)\" style=\"fill: none; stroke: #000000; stroke-width: 2; stroke-linejoin: miter\"/>\n",
       "   </g>\n",
       "   <g id=\"patch_8\">\n",
       "    <path d=\"M 170.450981 105.29 \n",
       "C 170.450981 104.275936 170.047716 103.302368 169.330664 102.585317 \n",
       "C 168.613613 101.868265 167.640045 101.465 166.625981 101.465 \n",
       "C 165.611917 101.465 164.638349 101.868265 163.921298 102.585317 \n",
       "C 163.204246 103.302368 162.800981 104.275936 162.800981 105.29 \n",
       "\" clip-path=\"url(#p08bcf48bad)\" style=\"fill: none; stroke: #000000; stroke-width: 2; stroke-linejoin: miter\"/>\n",
       "   </g>\n",
       "   <g id=\"patch_9\">\n",
       "    <path d=\"M 178.100981 105.29 \n",
       "C 178.100981 104.275936 177.697716 103.302368 176.980664 102.585317 \n",
       "C 176.263613 101.868265 175.290045 101.465 174.275981 101.465 \n",
       "C 173.261917 101.465 172.288349 101.868265 171.571298 102.585317 \n",
       "C 170.854246 103.302368 170.450981 104.275936 170.450981 105.29 \n",
       "\" clip-path=\"url(#p08bcf48bad)\" style=\"fill: none; stroke: #000000; stroke-width: 2; stroke-linejoin: miter\"/>\n",
       "   </g>\n",
       "   <g id=\"patch_10\">\n",
       "    <path d=\"M 224.000981 174.14 \n",
       "C 222.986917 174.14 222.013349 174.543265 221.296298 175.260317 \n",
       "C 220.579246 175.977368 220.175981 176.950936 220.175981 177.965 \n",
       "C 220.175981 178.979064 220.579246 179.952632 221.296298 180.669683 \n",
       "C 222.013349 181.386735 222.986917 181.79 224.000981 181.79 \n",
       "\" clip-path=\"url(#p08bcf48bad)\" style=\"fill: none; stroke: #000000; stroke-width: 2; stroke-linejoin: miter\"/>\n",
       "   </g>\n",
       "   <g id=\"patch_11\">\n",
       "    <path d=\"M 224.000981 166.49 \n",
       "C 222.986917 166.49 222.013349 166.893265 221.296298 167.610317 \n",
       "C 220.579246 168.327368 220.175981 169.300936 220.175981 170.315 \n",
       "C 220.175981 171.329064 220.579246 172.302632 221.296298 173.019683 \n",
       "C 222.013349 173.736735 222.986917 174.14 224.000981 174.14 \n",
       "\" clip-path=\"url(#p08bcf48bad)\" style=\"fill: none; stroke: #000000; stroke-width: 2; stroke-linejoin: miter\"/>\n",
       "   </g>\n",
       "   <g id=\"patch_12\">\n",
       "    <path d=\"M 224.000981 158.84 \n",
       "C 222.986917 158.84 222.013349 159.243265 221.296298 159.960317 \n",
       "C 220.579246 160.677368 220.175981 161.650936 220.175981 162.665 \n",
       "C 220.175981 163.679064 220.579246 164.652632 221.296298 165.369683 \n",
       "C 222.013349 166.086735 222.986917 166.49 224.000981 166.49 \n",
       "\" clip-path=\"url(#p08bcf48bad)\" style=\"fill: none; stroke: #000000; stroke-width: 2; stroke-linejoin: miter\"/>\n",
       "   </g>\n",
       "   <g id=\"patch_13\">\n",
       "    <path d=\"M 224.000981 151.19 \n",
       "C 222.986917 151.19 222.013349 151.593265 221.296298 152.310317 \n",
       "C 220.579246 153.027368 220.175981 154.000936 220.175981 155.015 \n",
       "C 220.175981 156.029064 220.579246 157.002632 221.296298 157.719683 \n",
       "C 222.013349 158.436735 222.986917 158.84 224.000981 158.84 \n",
       "\" clip-path=\"url(#p08bcf48bad)\" style=\"fill: none; stroke: #000000; stroke-width: 2; stroke-linejoin: miter\"/>\n",
       "   </g>\n",
       "   <g id=\"line2d_1\">\n",
       "    <path d=\"M 40.400981 227.69 \n",
       "L 71.000981 227.69 \n",
       "L 101.600981 227.69 \n",
       "\" clip-path=\"url(#p08bcf48bad)\" style=\"fill: none; stroke: #000000; stroke-width: 2; stroke-linecap: round\"/>\n",
       "   </g>\n",
       "   <g id=\"line2d_2\">\n",
       "    <path d=\"M 101.600981 105.29 \n",
       "L 86.300981 105.29 \n",
       "L 71.000981 105.29 \n",
       "\" clip-path=\"url(#p08bcf48bad)\" style=\"fill: none; stroke: #000000; stroke-width: 2; stroke-linecap: round\"/>\n",
       "   </g>\n",
       "   <g id=\"line2d_3\">\n",
       "    <path d=\"M 63.350981 105.29 \n",
       "L 55.700981 105.29 \n",
       "L 40.400981 105.29 \n",
       "\" clip-path=\"url(#p08bcf48bad)\" style=\"fill: none; stroke: #000000; stroke-width: 2; stroke-linecap: round\"/>\n",
       "   </g>\n",
       "   <g id=\"patch_14\">\n",
       "    <path d=\"M 63.350981 102.995 \n",
       "L 71.000981 105.29 \n",
       "L 63.350981 107.585 \n",
       "z\n",
       "\" clip-path=\"url(#p08bcf48bad)\"/>\n",
       "   </g>\n",
       "   <g id=\"line2d_4\">\n",
       "    <path d=\"M 101.600981 227.69 \n",
       "L 101.600981 181.79 \n",
       "M 101.600981 151.19 \n",
       "L 101.600981 105.29 \n",
       "\" clip-path=\"url(#p08bcf48bad)\" style=\"fill: none; stroke: #000000; stroke-width: 2; stroke-linecap: round\"/>\n",
       "   </g>\n",
       "   <g id=\"line2d_5\">\n",
       "    <path d=\"M 101.600981 105.29 \n",
       "L 147.500981 105.29 \n",
       "M 178.100981 105.29 \n",
       "L 224.000981 105.29 \n",
       "\" clip-path=\"url(#p08bcf48bad)\" style=\"fill: none; stroke: #000000; stroke-width: 2; stroke-linecap: round\"/>\n",
       "   </g>\n",
       "   <g id=\"line2d_6\">\n",
       "    <path d=\"M 101.600981 105.29 \n",
       "L 101.600981 74.69 \n",
       "L 101.600981 44.09 \n",
       "\" clip-path=\"url(#p08bcf48bad)\" style=\"fill: none; stroke: #000000; stroke-width: 2; stroke-linecap: round\"/>\n",
       "   </g>\n",
       "   <g id=\"line2d_7\">\n",
       "    <path d=\"M 101.600981 44.09 \n",
       "L 160.046981 44.09 \n",
       "M 160.046981 36.44 \n",
       "L 160.046981 51.74 \n",
       "M 165.554981 36.44 \n",
       "L 165.554981 51.74 \n",
       "M 165.554981 44.09 \n",
       "L 224.000981 44.09 \n",
       "\" clip-path=\"url(#p08bcf48bad)\" style=\"fill: none; stroke: #000000; stroke-width: 2; stroke-linecap: round\"/>\n",
       "   </g>\n",
       "   <g id=\"line2d_8\">\n",
       "    <path d=\"M 224.000981 44.09 \n",
       "L 224.000981 74.69 \n",
       "L 224.000981 105.29 \n",
       "\" clip-path=\"url(#p08bcf48bad)\" style=\"fill: none; stroke: #000000; stroke-width: 2; stroke-linecap: round\"/>\n",
       "   </g>\n",
       "   <g id=\"line2d_9\">\n",
       "    <path d=\"M 224.000981 227.69 \n",
       "L 162.800981 227.69 \n",
       "L 101.600981 227.69 \n",
       "\" clip-path=\"url(#p08bcf48bad)\" style=\"fill: none; stroke: #000000; stroke-width: 2; stroke-linecap: round\"/>\n",
       "   </g>\n",
       "   <g id=\"line2d_10\">\n",
       "    <path d=\"M 224.000981 227.69 \n",
       "L 224.000981 181.79 \n",
       "M 224.000981 151.19 \n",
       "L 224.000981 105.29 \n",
       "\" clip-path=\"url(#p08bcf48bad)\" style=\"fill: none; stroke: #000000; stroke-width: 2; stroke-linecap: round\"/>\n",
       "   </g>\n",
       "   <g id=\"text_1\">\n",
       "    <g clip-path=\"url(#p08bcf48bad)\">\n",
       "     <!-- + -->\n",
       "     <g transform=\"translate(34.325708 139.891094) scale(0.145 -0.145)\">\n",
       "      <defs>\n",
       "       <path id=\"DejaVuSans-2b\" d=\"M 2944 4013 \n",
       "L 2944 2272 \n",
       "L 4684 2272 \n",
       "L 4684 1741 \n",
       "L 2944 1741 \n",
       "L 2944 0 \n",
       "L 2419 0 \n",
       "L 2419 1741 \n",
       "L 678 1741 \n",
       "L 678 2272 \n",
       "L 2419 2272 \n",
       "L 2419 4013 \n",
       "L 2944 4013 \n",
       "z\n",
       "\" transform=\"scale(0.015625)\"/>\n",
       "      </defs>\n",
       "      <use xlink:href=\"#DejaVuSans-2b\"/>\n",
       "     </g>\n",
       "    </g>\n",
       "   </g>\n",
       "   <g id=\"text_2\">\n",
       "    <g clip-path=\"url(#p08bcf48bad)\">\n",
       "     <!-- $V$ -->\n",
       "     <g transform=\"translate(35.398481 170.491094) scale(0.145 -0.145)\">\n",
       "      <defs>\n",
       "       <path id=\"DejaVuSans-Oblique-56\" d=\"M 1319 0 \n",
       "L 500 4666 \n",
       "L 1119 4666 \n",
       "L 1797 653 \n",
       "L 4063 4666 \n",
       "L 4750 4666 \n",
       "L 2053 0 \n",
       "L 1319 0 \n",
       "z\n",
       "\" transform=\"scale(0.015625)\"/>\n",
       "      </defs>\n",
       "      <use xlink:href=\"#DejaVuSans-Oblique-56\" transform=\"translate(0 0.09375)\"/>\n",
       "     </g>\n",
       "    </g>\n",
       "   </g>\n",
       "   <g id=\"text_3\">\n",
       "    <g clip-path=\"url(#p08bcf48bad)\">\n",
       "     <!-- - -->\n",
       "     <g transform=\"translate(37.785317 201.091094) scale(0.145 -0.145)\">\n",
       "      <defs>\n",
       "       <path id=\"DejaVuSans-2d\" d=\"M 313 2009 \n",
       "L 1997 2009 \n",
       "L 1997 1497 \n",
       "L 313 1497 \n",
       "L 313 2009 \n",
       "z\n",
       "\" transform=\"scale(0.015625)\"/>\n",
       "      </defs>\n",
       "      <use xlink:href=\"#DejaVuSans-2d\"/>\n",
       "     </g>\n",
       "    </g>\n",
       "   </g>\n",
       "   <g id=\"text_4\">\n",
       "    <g clip-path=\"url(#p08bcf48bad)\">\n",
       "     <!-- $I$ -->\n",
       "     <g transform=\"translate(53.525981 99.214453) scale(0.145 -0.145)\">\n",
       "      <defs>\n",
       "       <path id=\"DejaVuSans-Oblique-49\" d=\"M 1081 4666 \n",
       "L 1716 4666 \n",
       "L 806 0 \n",
       "L 172 0 \n",
       "L 1081 4666 \n",
       "z\n",
       "\" transform=\"scale(0.015625)\"/>\n",
       "      </defs>\n",
       "      <use xlink:href=\"#DejaVuSans-Oblique-49\" transform=\"translate(0 0.09375)\"/>\n",
       "     </g>\n",
       "    </g>\n",
       "   </g>\n",
       "   <g id=\"text_5\">\n",
       "    <g clip-path=\"url(#p08bcf48bad)\">\n",
       "     <!-- $\\frac{31}{14}$ -->\n",
       "     <g transform=\"translate(79.926 170.695) scale(0.145 -0.145)\">\n",
       "      <defs>\n",
       "       <path id=\"DejaVuSans-33\" d=\"M 2597 2516 \n",
       "Q 3050 2419 3304 2112 \n",
       "Q 3559 1806 3559 1356 \n",
       "Q 3559 666 3084 287 \n",
       "Q 2609 -91 1734 -91 \n",
       "Q 1441 -91 1130 -33 \n",
       "Q 819 25 488 141 \n",
       "L 488 750 \n",
       "Q 750 597 1062 519 \n",
       "Q 1375 441 1716 441 \n",
       "Q 2309 441 2620 675 \n",
       "Q 2931 909 2931 1356 \n",
       "Q 2931 1769 2642 2001 \n",
       "Q 2353 2234 1838 2234 \n",
       "L 1294 2234 \n",
       "L 1294 2753 \n",
       "L 1863 2753 \n",
       "Q 2328 2753 2575 2939 \n",
       "Q 2822 3125 2822 3475 \n",
       "Q 2822 3834 2567 4026 \n",
       "Q 2313 4219 1838 4219 \n",
       "Q 1578 4219 1281 4162 \n",
       "Q 984 4106 628 3988 \n",
       "L 628 4550 \n",
       "Q 988 4650 1302 4700 \n",
       "Q 1616 4750 1894 4750 \n",
       "Q 2613 4750 3031 4423 \n",
       "Q 3450 4097 3450 3541 \n",
       "Q 3450 3153 3228 2886 \n",
       "Q 3006 2619 2597 2516 \n",
       "z\n",
       "\" transform=\"scale(0.015625)\"/>\n",
       "       <path id=\"DejaVuSans-31\" d=\"M 794 531 \n",
       "L 1825 531 \n",
       "L 1825 4091 \n",
       "L 703 3866 \n",
       "L 703 4441 \n",
       "L 1819 4666 \n",
       "L 2450 4666 \n",
       "L 2450 531 \n",
       "L 3481 531 \n",
       "L 3481 0 \n",
       "L 794 0 \n",
       "L 794 531 \n",
       "z\n",
       "\" transform=\"scale(0.015625)\"/>\n",
       "       <path id=\"DejaVuSans-34\" d=\"M 2419 4116 \n",
       "L 825 1625 \n",
       "L 2419 1625 \n",
       "L 2419 4116 \n",
       "z\n",
       "M 2253 4666 \n",
       "L 3047 4666 \n",
       "L 3047 1625 \n",
       "L 3713 1625 \n",
       "L 3713 1100 \n",
       "L 3047 1100 \n",
       "L 3047 0 \n",
       "L 2419 0 \n",
       "L 2419 1100 \n",
       "L 313 1100 \n",
       "L 313 1709 \n",
       "L 2253 4666 \n",
       "z\n",
       "\" transform=\"scale(0.015625)\"/>\n",
       "      </defs>\n",
       "      <use xlink:href=\"#DejaVuSans-33\" transform=\"translate(0 45.046875) scale(0.7)\"/>\n",
       "      <use xlink:href=\"#DejaVuSans-31\" transform=\"translate(44.536133 45.046875) scale(0.7)\"/>\n",
       "      <use xlink:href=\"#DejaVuSans-31\" transform=\"translate(0 -38.232812) scale(0.7)\"/>\n",
       "      <use xlink:href=\"#DejaVuSans-34\" transform=\"translate(44.536133 -38.232812) scale(0.7)\"/>\n",
       "      <path d=\"M 0 19.051563 \n",
       "L 0 25.301563 \n",
       "L 89.072266 25.301563 \n",
       "L 89.072266 19.051563 \n",
       "L 0 19.051563 \n",
       "z\n",
       "\"/>\n",
       "     </g>\n",
       "    </g>\n",
       "   </g>\n",
       "   <g id=\"text_6\">\n",
       "    <g clip-path=\"url(#p08bcf48bad)\">\n",
       "     <!-- $\\frac{961}{48}$ -->\n",
       "     <g transform=\"translate(152.143481 92.460019) scale(0.145 -0.145)\">\n",
       "      <defs>\n",
       "       <path id=\"DejaVuSans-39\" d=\"M 703 97 \n",
       "L 703 672 \n",
       "Q 941 559 1184 500 \n",
       "Q 1428 441 1663 441 \n",
       "Q 2288 441 2617 861 \n",
       "Q 2947 1281 2994 2138 \n",
       "Q 2813 1869 2534 1725 \n",
       "Q 2256 1581 1919 1581 \n",
       "Q 1219 1581 811 2004 \n",
       "Q 403 2428 403 3163 \n",
       "Q 403 3881 828 4315 \n",
       "Q 1253 4750 1959 4750 \n",
       "Q 2769 4750 3195 4129 \n",
       "Q 3622 3509 3622 2328 \n",
       "Q 3622 1225 3098 567 \n",
       "Q 2575 -91 1691 -91 \n",
       "Q 1453 -91 1209 -44 \n",
       "Q 966 3 703 97 \n",
       "z\n",
       "M 1959 2075 \n",
       "Q 2384 2075 2632 2365 \n",
       "Q 2881 2656 2881 3163 \n",
       "Q 2881 3666 2632 3958 \n",
       "Q 2384 4250 1959 4250 \n",
       "Q 1534 4250 1286 3958 \n",
       "Q 1038 3666 1038 3163 \n",
       "Q 1038 2656 1286 2365 \n",
       "Q 1534 2075 1959 2075 \n",
       "z\n",
       "\" transform=\"scale(0.015625)\"/>\n",
       "       <path id=\"DejaVuSans-36\" d=\"M 2113 2584 \n",
       "Q 1688 2584 1439 2293 \n",
       "Q 1191 2003 1191 1497 \n",
       "Q 1191 994 1439 701 \n",
       "Q 1688 409 2113 409 \n",
       "Q 2538 409 2786 701 \n",
       "Q 3034 994 3034 1497 \n",
       "Q 3034 2003 2786 2293 \n",
       "Q 2538 2584 2113 2584 \n",
       "z\n",
       "M 3366 4563 \n",
       "L 3366 3988 \n",
       "Q 3128 4100 2886 4159 \n",
       "Q 2644 4219 2406 4219 \n",
       "Q 1781 4219 1451 3797 \n",
       "Q 1122 3375 1075 2522 \n",
       "Q 1259 2794 1537 2939 \n",
       "Q 1816 3084 2150 3084 \n",
       "Q 2853 3084 3261 2657 \n",
       "Q 3669 2231 3669 1497 \n",
       "Q 3669 778 3244 343 \n",
       "Q 2819 -91 2113 -91 \n",
       "Q 1303 -91 875 529 \n",
       "Q 447 1150 447 2328 \n",
       "Q 447 3434 972 4092 \n",
       "Q 1497 4750 2381 4750 \n",
       "Q 2619 4750 2861 4703 \n",
       "Q 3103 4656 3366 4563 \n",
       "z\n",
       "\" transform=\"scale(0.015625)\"/>\n",
       "       <path id=\"DejaVuSans-38\" d=\"M 2034 2216 \n",
       "Q 1584 2216 1326 1975 \n",
       "Q 1069 1734 1069 1313 \n",
       "Q 1069 891 1326 650 \n",
       "Q 1584 409 2034 409 \n",
       "Q 2484 409 2743 651 \n",
       "Q 3003 894 3003 1313 \n",
       "Q 3003 1734 2745 1975 \n",
       "Q 2488 2216 2034 2216 \n",
       "z\n",
       "M 1403 2484 \n",
       "Q 997 2584 770 2862 \n",
       "Q 544 3141 544 3541 \n",
       "Q 544 4100 942 4425 \n",
       "Q 1341 4750 2034 4750 \n",
       "Q 2731 4750 3128 4425 \n",
       "Q 3525 4100 3525 3541 \n",
       "Q 3525 3141 3298 2862 \n",
       "Q 3072 2584 2669 2484 \n",
       "Q 3125 2378 3379 2068 \n",
       "Q 3634 1759 3634 1313 \n",
       "Q 3634 634 3220 271 \n",
       "Q 2806 -91 2034 -91 \n",
       "Q 1263 -91 848 271 \n",
       "Q 434 634 434 1313 \n",
       "Q 434 1759 690 2068 \n",
       "Q 947 2378 1403 2484 \n",
       "z\n",
       "M 1172 3481 \n",
       "Q 1172 3119 1398 2916 \n",
       "Q 1625 2713 2034 2713 \n",
       "Q 2441 2713 2670 2916 \n",
       "Q 2900 3119 2900 3481 \n",
       "Q 2900 3844 2670 4047 \n",
       "Q 2441 4250 2034 4250 \n",
       "Q 1625 4250 1398 4047 \n",
       "Q 1172 3844 1172 3481 \n",
       "z\n",
       "\" transform=\"scale(0.015625)\"/>\n",
       "      </defs>\n",
       "      <use xlink:href=\"#DejaVuSans-39\" transform=\"translate(0 45.046875) scale(0.7)\"/>\n",
       "      <use xlink:href=\"#DejaVuSans-36\" transform=\"translate(44.536133 45.046875) scale(0.7)\"/>\n",
       "      <use xlink:href=\"#DejaVuSans-31\" transform=\"translate(89.072266 45.046875) scale(0.7)\"/>\n",
       "      <use xlink:href=\"#DejaVuSans-34\" transform=\"translate(22 -39.151563) scale(0.7)\"/>\n",
       "      <use xlink:href=\"#DejaVuSans-38\" transform=\"translate(66.536133 -39.151563) scale(0.7)\"/>\n",
       "      <path d=\"M 0 19.051563 \n",
       "L 0 25.301563 \n",
       "L 133.608398 25.301563 \n",
       "L 133.608398 19.051563 \n",
       "L 0 19.051563 \n",
       "z\n",
       "\"/>\n",
       "     </g>\n",
       "    </g>\n",
       "   </g>\n",
       "   <g id=\"text_7\">\n",
       "    <g clip-path=\"url(#p08bcf48bad)\">\n",
       "     <!-- $\\frac{4}{5}$ -->\n",
       "     <g transform=\"translate(158.595981 27.58) scale(0.145 -0.145)\">\n",
       "      <defs>\n",
       "       <path id=\"DejaVuSans-35\" d=\"M 691 4666 \n",
       "L 3169 4666 \n",
       "L 3169 4134 \n",
       "L 1269 4134 \n",
       "L 1269 2991 \n",
       "Q 1406 3038 1543 3061 \n",
       "Q 1681 3084 1819 3084 \n",
       "Q 2600 3084 3056 2656 \n",
       "Q 3513 2228 3513 1497 \n",
       "Q 3513 744 3044 326 \n",
       "Q 2575 -91 1722 -91 \n",
       "Q 1428 -91 1123 -41 \n",
       "Q 819 9 494 109 \n",
       "L 494 744 \n",
       "Q 775 591 1075 516 \n",
       "Q 1375 441 1709 441 \n",
       "Q 2250 441 2565 725 \n",
       "Q 2881 1009 2881 1497 \n",
       "Q 2881 1984 2565 2268 \n",
       "Q 2250 2553 1709 2553 \n",
       "Q 1456 2553 1204 2497 \n",
       "Q 953 2441 691 2322 \n",
       "L 691 4666 \n",
       "z\n",
       "\" transform=\"scale(0.015625)\"/>\n",
       "      </defs>\n",
       "      <use xlink:href=\"#DejaVuSans-34\" transform=\"translate(0 43.965625) scale(0.7)\"/>\n",
       "      <use xlink:href=\"#DejaVuSans-35\" transform=\"translate(0 -38.31875) scale(0.7)\"/>\n",
       "      <path d=\"M 0 18.965625 \n",
       "L 0 25.215625 \n",
       "L 44.536133 25.215625 \n",
       "L 44.536133 18.965625 \n",
       "L 0 18.965625 \n",
       "z\n",
       "\"/>\n",
       "     </g>\n",
       "    </g>\n",
       "   </g>\n",
       "   <g id=\"text_8\">\n",
       "    <g clip-path=\"url(#p08bcf48bad)\">\n",
       "     <!-- $\\frac{31}{48}$ -->\n",
       "     <g transform=\"translate(202.326 170.55) scale(0.145 -0.145)\">\n",
       "      <use xlink:href=\"#DejaVuSans-33\" transform=\"translate(0 45.046875) scale(0.7)\"/>\n",
       "      <use xlink:href=\"#DejaVuSans-31\" transform=\"translate(44.536133 45.046875) scale(0.7)\"/>\n",
       "      <use xlink:href=\"#DejaVuSans-34\" transform=\"translate(0 -39.151563) scale(0.7)\"/>\n",
       "      <use xlink:href=\"#DejaVuSans-38\" transform=\"translate(44.536133 -39.151563) scale(0.7)\"/>\n",
       "      <path d=\"M 0 19.051563 \n",
       "L 0 25.301563 \n",
       "L 89.072266 25.301563 \n",
       "L 89.072266 19.051563 \n",
       "L 0 19.051563 \n",
       "z\n",
       "\"/>\n",
       "     </g>\n",
       "    </g>\n",
       "   </g>\n",
       "   <g id=\"patch_15\">\n",
       "    <path d=\"M 40.400981 107.585 \n",
       "C 41.009622 107.585 41.593417 107.343184 42.023791 106.91281 \n",
       "C 42.454165 106.482436 42.695981 105.898641 42.695981 105.29 \n",
       "C 42.695981 104.681359 42.454165 104.097564 42.023791 103.66719 \n",
       "C 41.593417 103.236816 41.009622 102.995 40.400981 102.995 \n",
       "C 39.79234 102.995 39.208545 103.236816 38.778171 103.66719 \n",
       "C 38.347797 104.097564 38.105981 104.681359 38.105981 105.29 \n",
       "C 38.105981 105.898641 38.347797 106.482436 38.778171 106.91281 \n",
       "C 39.208545 107.343184 39.79234 107.585 40.400981 107.585 \n",
       "z\n",
       "\" clip-path=\"url(#p08bcf48bad)\" style=\"fill: #ffffff; stroke: #000000; stroke-width: 2; stroke-linejoin: miter\"/>\n",
       "   </g>\n",
       "   <g id=\"patch_16\">\n",
       "    <path d=\"M 40.400981 229.985 \n",
       "C 41.009622 229.985 41.593417 229.743184 42.023791 229.31281 \n",
       "C 42.454165 228.882436 42.695981 228.298641 42.695981 227.69 \n",
       "C 42.695981 227.081359 42.454165 226.497564 42.023791 226.06719 \n",
       "C 41.593417 225.636816 41.009622 225.395 40.400981 225.395 \n",
       "C 39.79234 225.395 39.208545 225.636816 38.778171 226.06719 \n",
       "C 38.347797 226.497564 38.105981 227.081359 38.105981 227.69 \n",
       "C 38.105981 228.298641 38.347797 228.882436 38.778171 229.31281 \n",
       "C 39.208545 229.743184 39.79234 229.985 40.400981 229.985 \n",
       "z\n",
       "\" clip-path=\"url(#p08bcf48bad)\" style=\"fill: #ffffff; stroke: #000000; stroke-width: 2; stroke-linejoin: miter\"/>\n",
       "   </g>\n",
       "   <g id=\"patch_17\">\n",
       "    <path d=\"M 101.600981 229.985 \n",
       "C 102.209622 229.985 102.793417 229.743184 103.223791 229.31281 \n",
       "C 103.654165 228.882436 103.895981 228.298641 103.895981 227.69 \n",
       "C 103.895981 227.081359 103.654165 226.497564 103.223791 226.06719 \n",
       "C 102.793417 225.636816 102.209622 225.395 101.600981 225.395 \n",
       "C 100.99234 225.395 100.408545 225.636816 99.978171 226.06719 \n",
       "C 99.547797 226.497564 99.305981 227.081359 99.305981 227.69 \n",
       "C 99.305981 228.298641 99.547797 228.882436 99.978171 229.31281 \n",
       "C 100.408545 229.743184 100.99234 229.985 101.600981 229.985 \n",
       "z\n",
       "\" clip-path=\"url(#p08bcf48bad)\" style=\"stroke: #000000; stroke-width: 2; stroke-linejoin: miter\"/>\n",
       "   </g>\n",
       "   <g id=\"patch_18\">\n",
       "    <path d=\"M 101.600981 107.585 \n",
       "C 102.209622 107.585 102.793417 107.343184 103.223791 106.91281 \n",
       "C 103.654165 106.482436 103.895981 105.898641 103.895981 105.29 \n",
       "C 103.895981 104.681359 103.654165 104.097564 103.223791 103.66719 \n",
       "C 102.793417 103.236816 102.209622 102.995 101.600981 102.995 \n",
       "C 100.99234 102.995 100.408545 103.236816 99.978171 103.66719 \n",
       "C 99.547797 104.097564 99.305981 104.681359 99.305981 105.29 \n",
       "C 99.305981 105.898641 99.547797 106.482436 99.978171 106.91281 \n",
       "C 100.408545 107.343184 100.99234 107.585 101.600981 107.585 \n",
       "z\n",
       "\" clip-path=\"url(#p08bcf48bad)\" style=\"stroke: #000000; stroke-width: 2; stroke-linejoin: miter\"/>\n",
       "   </g>\n",
       "   <g id=\"patch_19\">\n",
       "    <path d=\"M 101.600981 107.585 \n",
       "C 102.209622 107.585 102.793417 107.343184 103.223791 106.91281 \n",
       "C 103.654165 106.482436 103.895981 105.898641 103.895981 105.29 \n",
       "C 103.895981 104.681359 103.654165 104.097564 103.223791 103.66719 \n",
       "C 102.793417 103.236816 102.209622 102.995 101.600981 102.995 \n",
       "C 100.99234 102.995 100.408545 103.236816 99.978171 103.66719 \n",
       "C 99.547797 104.097564 99.305981 104.681359 99.305981 105.29 \n",
       "C 99.305981 105.898641 99.547797 106.482436 99.978171 106.91281 \n",
       "C 100.408545 107.343184 100.99234 107.585 101.600981 107.585 \n",
       "z\n",
       "\" clip-path=\"url(#p08bcf48bad)\" style=\"stroke: #000000; stroke-width: 2; stroke-linejoin: miter\"/>\n",
       "   </g>\n",
       "   <g id=\"patch_20\">\n",
       "    <path d=\"M 224.000981 107.585 \n",
       "C 224.609622 107.585 225.193417 107.343184 225.623791 106.91281 \n",
       "C 226.054165 106.482436 226.295981 105.898641 226.295981 105.29 \n",
       "C 226.295981 104.681359 226.054165 104.097564 225.623791 103.66719 \n",
       "C 225.193417 103.236816 224.609622 102.995 224.000981 102.995 \n",
       "C 223.39234 102.995 222.808545 103.236816 222.378171 103.66719 \n",
       "C 221.947797 104.097564 221.705981 104.681359 221.705981 105.29 \n",
       "C 221.705981 105.898641 221.947797 106.482436 222.378171 106.91281 \n",
       "C 222.808545 107.343184 223.39234 107.585 224.000981 107.585 \n",
       "z\n",
       "\" clip-path=\"url(#p08bcf48bad)\" style=\"stroke: #000000; stroke-width: 2; stroke-linejoin: miter\"/>\n",
       "   </g>\n",
       "   <g id=\"patch_21\">\n",
       "    <path d=\"M 224.000981 229.985 \n",
       "C 224.609622 229.985 225.193417 229.743184 225.623791 229.31281 \n",
       "C 226.054165 228.882436 226.295981 228.298641 226.295981 227.69 \n",
       "C 226.295981 227.081359 226.054165 226.497564 225.623791 226.06719 \n",
       "C 225.193417 225.636816 224.609622 225.395 224.000981 225.395 \n",
       "C 223.39234 225.395 222.808545 225.636816 222.378171 226.06719 \n",
       "C 221.947797 226.497564 221.705981 227.081359 221.705981 227.69 \n",
       "C 221.705981 228.298641 221.947797 228.882436 222.378171 229.31281 \n",
       "C 222.808545 229.743184 223.39234 229.985 224.000981 229.985 \n",
       "z\n",
       "\" clip-path=\"url(#p08bcf48bad)\" style=\"stroke: #000000; stroke-width: 2; stroke-linejoin: miter\"/>\n",
       "   </g>\n",
       "   <g id=\"patch_22\">\n",
       "    <path d=\"M 224.000981 107.585 \n",
       "C 224.609622 107.585 225.193417 107.343184 225.623791 106.91281 \n",
       "C 226.054165 106.482436 226.295981 105.898641 226.295981 105.29 \n",
       "C 226.295981 104.681359 226.054165 104.097564 225.623791 103.66719 \n",
       "C 225.193417 103.236816 224.609622 102.995 224.000981 102.995 \n",
       "C 223.39234 102.995 222.808545 103.236816 222.378171 103.66719 \n",
       "C 221.947797 104.097564 221.705981 104.681359 221.705981 105.29 \n",
       "C 221.705981 105.898641 221.947797 106.482436 222.378171 106.91281 \n",
       "C 222.808545 107.343184 223.39234 107.585 224.000981 107.585 \n",
       "z\n",
       "\" clip-path=\"url(#p08bcf48bad)\" style=\"stroke: #000000; stroke-width: 2; stroke-linejoin: miter\"/>\n",
       "   </g>\n",
       "  </g>\n",
       " </g>\n",
       " <defs>\n",
       "  <clipPath id=\"p08bcf48bad\">\n",
       "   <rect x=\"7.2\" y=\"7.2\" width=\"232.100981\" height=\"225.845\"/>\n",
       "  </clipPath>\n",
       " </defs>\n",
       "</svg>\n"
      ],
      "text/plain": [
       "<schemdraw.schemdraw.Drawing at 0x7f48e04bba90>"
      ]
     },
     "metadata": {},
     "output_type": "display_data"
    },
    {
     "name": "stdout",
     "output_type": "stream",
     "text": [
      "\n",
      "///////////////////////////////////////////////////////////////////////////\n",
      "///////////////////////////////////////////////////////////////////////////\n",
      "\n",
      "Calculos de verificacion\n"
     ]
    },
    {
     "data": {
      "text/latex": [
       "$\\displaystyle YY{1}=\\left[\\begin{matrix}Ya + Yb & - Yb\\\\- Yb & Yb + Yc\\end{matrix}\\right]$"
      ],
      "text/plain": [
       "<IPython.core.display.Math object>"
      ]
     },
     "metadata": {},
     "output_type": "display_data"
    },
    {
     "name": "stdout",
     "output_type": "stream",
     "text": [
      "\n",
      "///////////////////////////////////////////////////////////////////////////\n",
      "\n"
     ]
    },
    {
     "data": {
      "text/latex": [
       "$\\displaystyle YY_{T}=\\left[\\begin{matrix}0.799 s + \\frac{0.502}{s} & - 0.799 s - \\frac{0.0499}{s}\\\\- 0.799 s - \\frac{0.0499}{s} & 0.799 s + \\frac{1.6}{s}\\end{matrix}\\right]$"
      ],
      "text/plain": [
       "<IPython.core.display.Math object>"
      ]
     },
     "metadata": {},
     "output_type": "display_data"
    },
    {
     "name": "stdout",
     "output_type": "stream",
     "text": [
      "\n",
      "///////////////////////////////////////////////////////////////////////////\n",
      "\n"
     ]
    },
    {
     "data": {
      "text/latex": [
       "$\\displaystyle ZZ_{11}=\\frac{1.0 s \\left(0.5 s^{2} + 1.0\\right)}{1.0 s^{2} + 0.5}$"
      ],
      "text/plain": [
       "<IPython.core.display.Math object>"
      ]
     },
     "metadata": {},
     "output_type": "display_data"
    },
    {
     "data": {
      "text/latex": [
       "$\\displaystyle ZZ_{12}=\\frac{1.42 s \\left(0.352 s^{6} + 0.549 s^{4} + 1.0 s^{2} + 0.0604\\right)}{1.0 s^{6} + 0.625 s^{4} + 0.0664 s^{2} + 0.00195}$"
      ],
      "text/plain": [
       "<IPython.core.display.Math object>"
      ]
     },
     "metadata": {},
     "output_type": "display_data"
    },
    {
     "data": {
      "text/latex": [
       "$\\displaystyle ZZ_{21}=\\frac{0.5 s \\left(1.0 s^{2} + 0.0625\\right)}{1.0 s^{2} + 0.5}$"
      ],
      "text/plain": [
       "<IPython.core.display.Math object>"
      ]
     },
     "metadata": {},
     "output_type": "display_data"
    },
    {
     "data": {
      "text/latex": [
       "$\\displaystyle ZZ_{22}=\\frac{1.0 s \\left(0.5 s^{2} + 1.0\\right)}{1.0 s^{2} + 0.5}$"
      ],
      "text/plain": [
       "<IPython.core.display.Math object>"
      ]
     },
     "metadata": {},
     "output_type": "display_data"
    },
    {
     "data": {
      "text/latex": [
       "$\\displaystyle \\frac{V_2}{V_g}(s)=\\frac{1.0 s \\left(1.0 s^{2} + 0.0625\\right)}{\\left(1.0 s + 1.0\\right) \\left(1.0 s^{2} + 1.0 s + 1.0\\right)}$"
      ],
      "text/plain": [
       "<IPython.core.display.Math object>"
      ]
     },
     "metadata": {},
     "output_type": "display_data"
    },
    {
     "data": {
      "text/plain": [
       "[[1,\n",
       "  array([<Axes: title={'center': 'Respuesta de Magnitud'}, ylabel='Magnitud [dB]'>,\n",
       "         <Axes: title={'center': 'Respuesta de Fase'}, xlabel='Frecuencia angular [rad/seg]', ylabel='Fase [rad]'>],\n",
       "        dtype=object)],\n",
       " [2, <Axes: xlabel='$\\\\sigma$', ylabel='j$\\\\omega$'>],\n",
       " [3, []],\n",
       " [4,\n",
       "  <Axes: title={'center': 'Retardo de grupo'}, xlabel='Frecuencia angular [rad/seg]', ylabel='Retardo de grupo [seg]'>]]"
      ]
     },
     "execution_count": 1,
     "metadata": {},
     "output_type": "execute_result"
    },
    {
     "data": {
      "image/png": "[encoded data removed]",
      "text/plain": [
       "<Figure size 640x480 with 2 Axes>"
      ]
     },
     "metadata": {},
     "output_type": "display_data"
    },
    {
     "data": {
      "image/png": "[encoded data removed]",
      "text/plain": [
       "<Figure size 640x480 with 1 Axes>"
      ]
     },
     "metadata": {},
     "output_type": "display_data"
    },
    {
     "data": {
      "image/png": "[encoded data removed]",
      "text/plain": [
       "<Figure size 640x480 with 1 Axes>"
      ]
     },
     "metadata": {},
     "output_type": "display_data"
    }
   ],
   "source": [
    "#!/usr/bin/env python3\n",
    "# -*- coding: utf-8 -*-\n",
    "import sympy as sp\n",
    "from sympy import symbols, Matrix\n",
    "from sympy import init_printing\n",
    "from sympy import simplify\n",
    "from sympy import symbols, expand, factor\n",
    "import scipy.signal as sig\n",
    "from pytc2.general import to_latex\n",
    "\n",
    "from schemdraw import Drawing\n",
    "\n",
    "# Ahora importamos las funciones de PyTC2\n",
    "\n",
    "from pytc2.remociones import remover_polo_dc, remover_polo_jw , remover_polo_jw2 ,remover_polo_infinito , remover_polo_dc2 , remover_polo_infinito2\n",
    "from pytc2.dibujar import display, dibujar_tanque_serie, dibujar_puerto_entrada, dibujar_funcion_exc_abajo,  dibujar_elemento_serie, dibujar_elemento_derivacion,  dibujar_tanque_derivacion, dibujar_tanque_RC_serie,  dibujar_espacio_derivacion, Capacitor, Resistor, ResistorIEC\n",
    "from pytc2.dibujar import dibujar_Pi, dibujar_Tee, dibujar_lattice\n",
    "\n",
    "from pytc2.general import print_latex, print_subtitle, a_equal_b_latex_s\n",
    "from IPython.display import display,  Markdown\n",
    "from pytc2.sistemas_lineales import analyze_sys\n",
    "from pytc2.cuadripolos import Z2Tabcd_s, Y2Tabcd_s, Tabcd2Z_s, Tabcd2Y_s\n",
    "from pytc2.cuadripolos import calc_MAI_impedance_ij, calc_MAI_vtransf_ij_mn, calc_MAI_ztransf_ij_mn\n",
    "\n",
    "\n",
    "patron = \"\\n\" + \"/\" * 75 + \"\\n\" # 75 barras para ajustar el largo deseado\n",
    "# Activar la impresión en formato LaTeX\n",
    "init_printing()\n",
    "# Definir la variable simbólica s\n",
    "s = sp.symbols('s',complex=True)\n",
    "\n",
    "# Definir la función de transferencia H(s)\n",
    "numerador = (s**2 + 1/16)*s\n",
    "denominador = 2*s**2 + 1\n",
    "Z21 = numerador / denominador\n",
    "\n",
    "print_latex(a_equal_b_latex_s('Z21(s)', Z21))\n",
    "\n",
    "##/////////////////////////////////////////////////////////////////////////////\n",
    "\n",
    "numerador = (s**2 + 2)*s\n",
    "denominador = 2*s**2 + 1\n",
    "Z11 = numerador / denominador\n",
    "\n",
    "print_latex(a_equal_b_latex_s('Z11(s)', Z11))\n",
    "print(patron)\n",
    "\n",
    "##/////////////////////////////////////////////////////////////////////////////\n",
    "##/////////////////////////////////////////////////////////////////////////////\n",
    "\n",
    "Y2, Yt1 = remover_polo_dc(1/Z11, omega_zero=0.25)\n",
    "L1 = 1/(s*Yt1)\n",
    "L1 = sp.nsimplify(L1)\n",
    "Y2 = sp.nsimplify(sp.factor(Y2))\n",
    "Yt1 = sp.nsimplify(sp.factor(Yt1))\n",
    "\n",
    "print_latex(a_equal_b_latex_s('L1', L1))\n",
    "print_latex(a_equal_b_latex_s('Yt1(s)', Yt1))\n",
    "print_latex(a_equal_b_latex_s('Yt1(s)', Yt1))\n",
    "print_latex(a_equal_b_latex_s('Y2(s)', Y2))\n",
    "print(patron)\n",
    "\n",
    "##/////////////////////////////////////////////////////////////////////////////\n",
    "##/////////////////////////////////////////////////////////////////////////////\n",
    "\n",
    "Z4, Zt3 , L2, C2 = remover_polo_jw2(1/Y2, omega=0.0625, isImpedance=True)\n",
    "L2 = sp.nsimplify(L2)\n",
    "C2 = sp.nsimplify(C2)\n",
    "Z4 = sp.nsimplify(sp.factor(Z4))\n",
    "Zt3 = sp.nsimplify(sp.factor(Zt3))\n",
    "\n",
    "print_latex(a_equal_b_latex_s('L2', L2))\n",
    "print_latex(a_equal_b_latex_s('C2', sp.latex( sp.nsimplify(C2.evalf(2)))))\n",
    "print_latex(a_equal_b_latex_s('Zt3(s)', sp.latex( sp.nsimplify(Zt3.evalf(2)))))\n",
    "print_latex(a_equal_b_latex_s('Z4(s)', Z4))\n",
    "print(patron)\n",
    "\n",
    "##/////////////////////////////////////////////////////////////////////////////\n",
    "##/////////////////////////////////////////////////////////////////////////////\n",
    "\n",
    "Y6, Yt5  = remover_polo_dc(1/Z4)\n",
    "L3 = 1/(Yt5*s)\n",
    "L3 = sp.nsimplify(L3)\n",
    "Y6 = sp.nsimplify(sp.factor(Y6))\n",
    "Yt5 = sp.nsimplify(sp.factor(Yt5))\n",
    "\n",
    "print_latex(a_equal_b_latex_s('L3', L3))\n",
    "print_latex(a_equal_b_latex_s('Yt5(s)', Yt5))\n",
    "print_latex(a_equal_b_latex_s('Y6(s)', Y6))\n",
    "\n",
    "##/////////////////////////////////////////////////////////////////////////////\n",
    "##/////////////////////////////////////////////////////////////////////////////\n",
    "##/////////////////////////////////////////////////////////////////////////////\n",
    "##/////////////////////////////////////////////////////////////////////////////\n",
    "\n",
    "# Dibujamos la red resultante:\n",
    "\n",
    "d = dibujar_puerto_entrada(Drawing(unit=4),\n",
    "                        voltage_lbl = ('+', '$V$', '-'), \n",
    "                        current_lbl = '$I$')\n",
    "\n",
    "\n",
    "d = dibujar_elemento_derivacion(d, 'L', L1)\n",
    "\n",
    "d = dibujar_tanque_serie(d, L2, sp.latex( sp.nsimplify(C2.evalf(1))) )\n",
    "\n",
    "d = dibujar_elemento_derivacion(d, 'L', L3)\n",
    "\n",
    "display(d)\n",
    "\n",
    "##/////////////////////////////////////////////////////////////////////////////\n",
    "##/////////////////////////////////////////////////////////////////////////////\n",
    "##/////////////////////////////////////////////////////////////////////////////\n",
    "##/////////////////////////////////////////////////////////////////////////////\n",
    "print(\"\\n\" + \"/\" * 75)\n",
    "print(\"/\" * 75 + \"\\n\")\n",
    "\n",
    "print('Calculos de verificacion')\n",
    "\n",
    "Ya , Yb , Yc = sp.symbols('Ya , Yb , Yc', complex=True)\n",
    "\n",
    "\n",
    "YY = sp.Matrix([[ Ya + Yb , -Yb ], [ -Yb , Yb + Yc ]])\n",
    "\n",
    "\n",
    "print_latex(a_equal_b_latex_s('YY{1}', YY))\n",
    "\n",
    "print(patron)\n",
    "\n",
    "YY_sym = sp.simplify(YY.subs(Ya, 1/(s*L1) ) ) \n",
    "YY_sym = sp.simplify(YY_sym.subs(Yb, 1/(s*L2) + C2*s ))\n",
    "YY_sym = sp.simplify(YY_sym.subs(Yc, 1/(s*L3) ) )\n",
    "\n",
    "print_latex(a_equal_b_latex_s('YY_{T}', sp.factor(sp.simplify(sp.expand(YY_sym.evalf(3))))) )\n",
    "\n",
    "TT = Y2Tabcd_s (YY_sym)\n",
    "\n",
    "ZZ = Tabcd2Z_s (TT)\n",
    "\n",
    "Z11 = sp.factor(sp.simplify(sp.expand(ZZ[0].evalf(3))))\n",
    "Z12 = sp.factor(sp.simplify(sp.expand(ZZ[1].evalf(3))))\n",
    "Z21 = sp.factor(sp.simplify(sp.expand(ZZ[2].evalf(3))))\n",
    "Z22 = sp.factor(sp.simplify(sp.expand(ZZ[3].evalf(3))))\n",
    "\n",
    "print(patron)\n",
    "\n",
    "print_latex(a_equal_b_latex_s('ZZ_{11}', Z11 ) )\n",
    "\n",
    "print_latex(a_equal_b_latex_s('ZZ_{12}', Z12 ) )\n",
    "\n",
    "print_latex(a_equal_b_latex_s('ZZ_{21}', Z21 ) )\n",
    "\n",
    "print_latex(a_equal_b_latex_s('ZZ_{22}', Z22 ) )\n",
    "\n",
    "print_latex(a_equal_b_latex_s('\\\\frac{V_2}{V_g}(s)', sp.factor(Z21/(1+Z11))))\n",
    "\n",
    "\n",
    "H = sig.TransferFunction( [1, 0, 1/16, 0], [1, 2, 2, 1] )\n",
    "\n",
    "analyze_sys(H)"
   ]
  },
  {
   "cell_type": "markdown",
   "metadata": {},
   "source": [
    "## Ejercicio 2"
   ]
  },
  {
   "cell_type": "markdown",
   "metadata": {},
   "source": [
    "### Solucion\n",
    "<img src=\"./ej2.jpeg\" align=\"left\" width=\"500\" /> "
   ]
  },
  {
   "cell_type": "code",
   "execution_count": 2,
   "metadata": {},
   "outputs": [
    {
     "data": {
      "text/latex": [
       "$\\displaystyle Z21(s)=\\frac{s^{2} + 9}{s \\left(s^{2} + 2\\right)}$"
      ],
      "text/plain": [
       "<IPython.core.display.Math object>"
      ]
     },
     "metadata": {},
     "output_type": "display_data"
    },
    {
     "data": {
      "text/latex": [
       "$\\displaystyle Z22(s)=\\frac{2 s^{2} + 1}{s \\left(s^{2} + 2\\right)}$"
      ],
      "text/plain": [
       "<IPython.core.display.Math object>"
      ]
     },
     "metadata": {},
     "output_type": "display_data"
    },
    {
     "name": "stdout",
     "output_type": "stream",
     "text": [
      "\n",
      "///////////////////////////////////////////////////////////////////////////\n",
      "\n"
     ]
    },
    {
     "data": {
      "text/latex": [
       "$\\displaystyle C1=\\frac{7}{17}$"
      ],
      "text/plain": [
       "<IPython.core.display.Math object>"
      ]
     },
     "metadata": {},
     "output_type": "display_data"
    },
    {
     "data": {
      "text/latex": [
       "$\\displaystyle Yt1(s)=\\frac{7 s}{17}$"
      ],
      "text/plain": [
       "<IPython.core.display.Math object>"
      ]
     },
     "metadata": {},
     "output_type": "display_data"
    },
    {
     "data": {
      "text/latex": [
       "$\\displaystyle Y2(s)=\\frac{3 s \\left(s^{2} + 9\\right)}{17 \\cdot \\left(2 s^{2} + 1\\right)}$"
      ],
      "text/plain": [
       "<IPython.core.display.Math object>"
      ]
     },
     "metadata": {},
     "output_type": "display_data"
    },
    {
     "name": "stdout",
     "output_type": "stream",
     "text": [
      "\n",
      "///////////////////////////////////////////////////////////////////////////\n",
      "\n"
     ]
    },
    {
     "data": {
      "text/latex": [
       "$\\displaystyle L2=\\frac{289}{243}$"
      ],
      "text/plain": [
       "<IPython.core.display.Math object>"
      ]
     },
     "metadata": {},
     "output_type": "display_data"
    },
    {
     "data": {
      "text/latex": [
       "$\\displaystyle C2=\\frac{27}{289}$"
      ],
      "text/plain": [
       "<IPython.core.display.Math object>"
      ]
     },
     "metadata": {},
     "output_type": "display_data"
    },
    {
     "data": {
      "text/latex": [
       "$\\displaystyle Zt3(s)=\\frac{289 s}{27 \\left(s^{2} + 9\\right)}$"
      ],
      "text/plain": [
       "<IPython.core.display.Math object>"
      ]
     },
     "metadata": {},
     "output_type": "display_data"
    },
    {
     "data": {
      "text/latex": [
       "$\\displaystyle Z4(s)=\\frac{17}{27 s}$"
      ],
      "text/plain": [
       "<IPython.core.display.Math object>"
      ]
     },
     "metadata": {},
     "output_type": "display_data"
    },
    {
     "name": "stdout",
     "output_type": "stream",
     "text": [
      "\n",
      "///////////////////////////////////////////////////////////////////////////\n",
      "\n"
     ]
    },
    {
     "data": {
      "text/latex": [
       "$\\displaystyle C3=\\frac{27}{17}$"
      ],
      "text/plain": [
       "<IPython.core.display.Math object>"
      ]
     },
     "metadata": {},
     "output_type": "display_data"
    },
    {
     "data": {
      "text/latex": [
       "$\\displaystyle Yt5(s)=\\frac{27 s}{17}$"
      ],
      "text/plain": [
       "<IPython.core.display.Math object>"
      ]
     },
     "metadata": {},
     "output_type": "display_data"
    },
    {
     "data": {
      "text/latex": [
       "$\\displaystyle Y6(s)=0$"
      ],
      "text/plain": [
       "<IPython.core.display.Math object>"
      ]
     },
     "metadata": {},
     "output_type": "display_data"
    },
    {
     "data": {
      "image/png": "[encoded data removed]",
      "image/svg+xml": [
       "<?xml version=\"1.0\" encoding=\"utf-8\" standalone=\"no\"?>\n",
       "<!DOCTYPE svg PUBLIC \"-//W3C//DTD SVG 1.1//EN\"\n",
       "  \"http://www.w3.org/Graphics/SVG/1.1/DTD/svg11.dtd\">\n",
       "<svg xmlns:xlink=\"http://www.w3.org/1999/xlink\" width=\"250.326pt\" height=\"240.245pt\" viewBox=\"0 0 250.326 240.245\" xmlns=\"http://www.w3.org/2000/svg\" version=\"1.1\">\n",
       " <metadata>\n",
       "  <rdf:RDF xmlns:dc=\"http://purl.org/dc/elements/1.1/\" xmlns:cc=\"http://creativecommons.org/ns#\" xmlns:rdf=\"http://www.w3.org/1999/02/22-rdf-syntax-ns#\">\n",
       "   <cc:Work>\n",
       "    <dc:type rdf:resource=\"http://purl.org/dc/dcmitype/StillImage\"/>\n",
       "    <dc:date>2024-10-25T01:22:50.983689</dc:date>\n",
       "    <dc:format>image/svg+xml</dc:format>\n",
       "    <dc:creator>\n",
       "     <cc:Agent>\n",
       "      <dc:title>Matplotlib v3.9.2, https://matplotlib.org/</dc:title>\n",
       "     </cc:Agent>\n",
       "    </dc:creator>\n",
       "   </cc:Work>\n",
       "  </rdf:RDF>\n",
       " </metadata>\n",
       " <defs>\n",
       "  <style type=\"text/css\">*{stroke-linejoin: round; stroke-linecap: butt}</style>\n",
       " </defs>\n",
       " <g id=\"figure_1\">\n",
       "  <g id=\"patch_1\">\n",
       "   <path d=\"M 0 240.245 \n",
       "L 250.326 240.245 \n",
       "L 250.326 0 \n",
       "L 0 0 \n",
       "z\n",
       "\" style=\"fill: #ffffff\"/>\n",
       "  </g>\n",
       "  <g id=\"axes_1\">\n",
       "   <g id=\"patch_2\">\n",
       "    <path d=\"M 158.976 105.29 \n",
       "C 158.976 104.275936 158.572735 103.302368 157.855683 102.585317 \n",
       "C 157.138632 101.868265 156.165064 101.465 155.151 101.465 \n",
       "C 154.136936 101.465 153.163368 101.868265 152.446317 102.585317 \n",
       "C 151.729265 103.302368 151.326 104.275936 151.326 105.29 \n",
       "\" clip-path=\"url(#p8be727f170)\" style=\"fill: none; stroke: #000000; stroke-width: 2; stroke-linejoin: miter\"/>\n",
       "   </g>\n",
       "   <g id=\"patch_3\">\n",
       "    <path d=\"M 166.626 105.29 \n",
       "C 166.626 104.275936 166.222735 103.302368 165.505683 102.585317 \n",
       "C 164.788632 101.868265 163.815064 101.465 162.801 101.465 \n",
       "C 161.786936 101.465 160.813368 101.868265 160.096317 102.585317 \n",
       "C 159.379265 103.302368 158.976 104.275936 158.976 105.29 \n",
       "\" clip-path=\"url(#p8be727f170)\" style=\"fill: none; stroke: #000000; stroke-width: 2; stroke-linejoin: miter\"/>\n",
       "   </g>\n",
       "   <g id=\"patch_4\">\n",
       "    <path d=\"M 174.276 105.29 \n",
       "C 174.276 104.275936 173.872735 103.302368 173.155683 102.585317 \n",
       "C 172.438632 101.868265 171.465064 101.465 170.451 101.465 \n",
       "C 169.436936 101.465 168.463368 101.868265 167.746317 102.585317 \n",
       "C 167.029265 103.302368 166.626 104.275936 166.626 105.29 \n",
       "\" clip-path=\"url(#p8be727f170)\" style=\"fill: none; stroke: #000000; stroke-width: 2; stroke-linejoin: miter\"/>\n",
       "   </g>\n",
       "   <g id=\"patch_5\">\n",
       "    <path d=\"M 181.926 105.29 \n",
       "C 181.926 104.275936 181.522735 103.302368 180.805683 102.585317 \n",
       "C 180.088632 101.868265 179.115064 101.465 178.101 101.465 \n",
       "C 177.086936 101.465 176.113368 101.868265 175.396317 102.585317 \n",
       "C 174.679265 103.302368 174.276 104.275936 174.276 105.29 \n",
       "\" clip-path=\"url(#p8be727f170)\" style=\"fill: none; stroke: #000000; stroke-width: 2; stroke-linejoin: miter\"/>\n",
       "   </g>\n",
       "   <g id=\"line2d_1\">\n",
       "    <path d=\"M 44.226 227.69 \n",
       "L 74.826 227.69 \n",
       "L 105.426 227.69 \n",
       "\" clip-path=\"url(#p8be727f170)\" style=\"fill: none; stroke: #000000; stroke-width: 2; stroke-linecap: round\"/>\n",
       "   </g>\n",
       "   <g id=\"line2d_2\">\n",
       "    <path d=\"M 105.426 105.29 \n",
       "L 90.126 105.29 \n",
       "L 74.826 105.29 \n",
       "\" clip-path=\"url(#p8be727f170)\" style=\"fill: none; stroke: #000000; stroke-width: 2; stroke-linecap: round\"/>\n",
       "   </g>\n",
       "   <g id=\"line2d_3\">\n",
       "    <path d=\"M 67.176 105.29 \n",
       "L 59.526 105.29 \n",
       "L 44.226 105.29 \n",
       "\" clip-path=\"url(#p8be727f170)\" style=\"fill: none; stroke: #000000; stroke-width: 2; stroke-linecap: round\"/>\n",
       "   </g>\n",
       "   <g id=\"patch_6\">\n",
       "    <path d=\"M 67.176 102.995 \n",
       "L 74.826 105.29 \n",
       "L 67.176 107.585 \n",
       "z\n",
       "\" clip-path=\"url(#p8be727f170)\"/>\n",
       "   </g>\n",
       "   <g id=\"line2d_4\">\n",
       "    <path d=\"M 105.426 227.69 \n",
       "L 105.426 169.244 \n",
       "M 97.776 169.244 \n",
       "L 113.076 169.244 \n",
       "M 97.776 163.736 \n",
       "L 113.076 163.736 \n",
       "M 105.426 163.736 \n",
       "L 105.426 105.29 \n",
       "\" clip-path=\"url(#p8be727f170)\" style=\"fill: none; stroke: #000000; stroke-width: 2; stroke-linecap: round\"/>\n",
       "   </g>\n",
       "   <g id=\"line2d_5\">\n",
       "    <path d=\"M 105.426 105.29 \n",
       "L 151.326 105.29 \n",
       "M 181.926 105.29 \n",
       "L 227.826 105.29 \n",
       "\" clip-path=\"url(#p8be727f170)\" style=\"fill: none; stroke: #000000; stroke-width: 2; stroke-linecap: round\"/>\n",
       "   </g>\n",
       "   <g id=\"line2d_6\">\n",
       "    <path d=\"M 105.426 105.29 \n",
       "L 105.426 74.69 \n",
       "L 105.426 44.09 \n",
       "\" clip-path=\"url(#p8be727f170)\" style=\"fill: none; stroke: #000000; stroke-width: 2; stroke-linecap: round\"/>\n",
       "   </g>\n",
       "   <g id=\"line2d_7\">\n",
       "    <path d=\"M 105.426 44.09 \n",
       "L 163.872 44.09 \n",
       "M 163.872 36.44 \n",
       "L 163.872 51.74 \n",
       "M 169.38 36.44 \n",
       "L 169.38 51.74 \n",
       "M 169.38 44.09 \n",
       "L 227.826 44.09 \n",
       "\" clip-path=\"url(#p8be727f170)\" style=\"fill: none; stroke: #000000; stroke-width: 2; stroke-linecap: round\"/>\n",
       "   </g>\n",
       "   <g id=\"line2d_8\">\n",
       "    <path d=\"M 227.826 44.09 \n",
       "L 227.826 74.69 \n",
       "L 227.826 105.29 \n",
       "\" clip-path=\"url(#p8be727f170)\" style=\"fill: none; stroke: #000000; stroke-width: 2; stroke-linecap: round\"/>\n",
       "   </g>\n",
       "   <g id=\"line2d_9\">\n",
       "    <path d=\"M 227.826 227.69 \n",
       "L 166.626 227.69 \n",
       "L 105.426 227.69 \n",
       "\" clip-path=\"url(#p8be727f170)\" style=\"fill: none; stroke: #000000; stroke-width: 2; stroke-linecap: round\"/>\n",
       "   </g>\n",
       "   <g id=\"line2d_10\">\n",
       "    <path d=\"M 227.826 227.69 \n",
       "L 227.826 169.244 \n",
       "M 220.176 169.244 \n",
       "L 235.476 169.244 \n",
       "M 220.176 163.736 \n",
       "L 235.476 163.736 \n",
       "M 227.826 163.736 \n",
       "L 227.826 105.29 \n",
       "\" clip-path=\"url(#p8be727f170)\" style=\"fill: none; stroke: #000000; stroke-width: 2; stroke-linecap: round\"/>\n",
       "   </g>\n",
       "   <g id=\"text_1\">\n",
       "    <g clip-path=\"url(#p8be727f170)\">\n",
       "     <!-- + -->\n",
       "     <g transform=\"translate(38.150727 139.891094) scale(0.145 -0.145)\">\n",
       "      <defs>\n",
       "       <path id=\"DejaVuSans-2b\" d=\"M 2944 4013 \n",
       "L 2944 2272 \n",
       "L 4684 2272 \n",
       "L 4684 1741 \n",
       "L 2944 1741 \n",
       "L 2944 0 \n",
       "L 2419 0 \n",
       "L 2419 1741 \n",
       "L 678 1741 \n",
       "L 678 2272 \n",
       "L 2419 2272 \n",
       "L 2419 4013 \n",
       "L 2944 4013 \n",
       "z\n",
       "\" transform=\"scale(0.015625)\"/>\n",
       "      </defs>\n",
       "      <use xlink:href=\"#DejaVuSans-2b\"/>\n",
       "     </g>\n",
       "    </g>\n",
       "   </g>\n",
       "   <g id=\"text_2\">\n",
       "    <g clip-path=\"url(#p8be727f170)\">\n",
       "     <!-- $V$ -->\n",
       "     <g transform=\"translate(39.2235 170.491094) scale(0.145 -0.145)\">\n",
       "      <defs>\n",
       "       <path id=\"DejaVuSans-Oblique-56\" d=\"M 1319 0 \n",
       "L 500 4666 \n",
       "L 1119 4666 \n",
       "L 1797 653 \n",
       "L 4063 4666 \n",
       "L 4750 4666 \n",
       "L 2053 0 \n",
       "L 1319 0 \n",
       "z\n",
       "\" transform=\"scale(0.015625)\"/>\n",
       "      </defs>\n",
       "      <use xlink:href=\"#DejaVuSans-Oblique-56\" transform=\"translate(0 0.09375)\"/>\n",
       "     </g>\n",
       "    </g>\n",
       "   </g>\n",
       "   <g id=\"text_3\">\n",
       "    <g clip-path=\"url(#p8be727f170)\">\n",
       "     <!-- - -->\n",
       "     <g transform=\"translate(41.610336 201.091094) scale(0.145 -0.145)\">\n",
       "      <defs>\n",
       "       <path id=\"DejaVuSans-2d\" d=\"M 313 2009 \n",
       "L 1997 2009 \n",
       "L 1997 1497 \n",
       "L 313 1497 \n",
       "L 313 2009 \n",
       "z\n",
       "\" transform=\"scale(0.015625)\"/>\n",
       "      </defs>\n",
       "      <use xlink:href=\"#DejaVuSans-2d\"/>\n",
       "     </g>\n",
       "    </g>\n",
       "   </g>\n",
       "   <g id=\"text_4\">\n",
       "    <g clip-path=\"url(#p8be727f170)\">\n",
       "     <!-- $I$ -->\n",
       "     <g transform=\"translate(57.351 99.214453) scale(0.145 -0.145)\">\n",
       "      <defs>\n",
       "       <path id=\"DejaVuSans-Oblique-49\" d=\"M 1081 4666 \n",
       "L 1716 4666 \n",
       "L 806 0 \n",
       "L 172 0 \n",
       "L 1081 4666 \n",
       "z\n",
       "\" transform=\"scale(0.015625)\"/>\n",
       "      </defs>\n",
       "      <use xlink:href=\"#DejaVuSans-Oblique-49\" transform=\"translate(0 0.09375)\"/>\n",
       "     </g>\n",
       "    </g>\n",
       "   </g>\n",
       "   <g id=\"text_5\">\n",
       "    <g clip-path=\"url(#p8be727f170)\">\n",
       "     <!-- $\\frac{27}{17}$ -->\n",
       "     <g transform=\"translate(79.926 170.6225) scale(0.145 -0.145)\">\n",
       "      <defs>\n",
       "       <path id=\"DejaVuSans-32\" d=\"M 1228 531 \n",
       "L 3431 531 \n",
       "L 3431 0 \n",
       "L 469 0 \n",
       "L 469 531 \n",
       "Q 828 903 1448 1529 \n",
       "Q 2069 2156 2228 2338 \n",
       "Q 2531 2678 2651 2914 \n",
       "Q 2772 3150 2772 3378 \n",
       "Q 2772 3750 2511 3984 \n",
       "Q 2250 4219 1831 4219 \n",
       "Q 1534 4219 1204 4116 \n",
       "Q 875 4013 500 3803 \n",
       "L 500 4441 \n",
       "Q 881 4594 1212 4672 \n",
       "Q 1544 4750 1819 4750 \n",
       "Q 2544 4750 2975 4387 \n",
       "Q 3406 4025 3406 3419 \n",
       "Q 3406 3131 3298 2873 \n",
       "Q 3191 2616 2906 2266 \n",
       "Q 2828 2175 2409 1742 \n",
       "Q 1991 1309 1228 531 \n",
       "z\n",
       "\" transform=\"scale(0.015625)\"/>\n",
       "       <path id=\"DejaVuSans-37\" d=\"M 525 4666 \n",
       "L 3525 4666 \n",
       "L 3525 4397 \n",
       "L 1831 0 \n",
       "L 1172 0 \n",
       "L 2766 4134 \n",
       "L 525 4134 \n",
       "L 525 4666 \n",
       "z\n",
       "\" transform=\"scale(0.015625)\"/>\n",
       "       <path id=\"DejaVuSans-31\" d=\"M 794 531 \n",
       "L 1825 531 \n",
       "L 1825 4091 \n",
       "L 703 3866 \n",
       "L 703 4441 \n",
       "L 1819 4666 \n",
       "L 2450 4666 \n",
       "L 2450 531 \n",
       "L 3481 531 \n",
       "L 3481 0 \n",
       "L 794 0 \n",
       "L 794 531 \n",
       "z\n",
       "\" transform=\"scale(0.015625)\"/>\n",
       "      </defs>\n",
       "      <use xlink:href=\"#DejaVuSans-32\" transform=\"translate(0 44.046875) scale(0.7)\"/>\n",
       "      <use xlink:href=\"#DejaVuSans-37\" transform=\"translate(44.536133 44.046875) scale(0.7)\"/>\n",
       "      <use xlink:href=\"#DejaVuSans-31\" transform=\"translate(0 -38.2375) scale(0.7)\"/>\n",
       "      <use xlink:href=\"#DejaVuSans-37\" transform=\"translate(44.536133 -38.2375) scale(0.7)\"/>\n",
       "      <path d=\"M 0 19.046875 \n",
       "L 0 25.296875 \n",
       "L 89.072266 25.296875 \n",
       "L 89.072266 19.046875 \n",
       "L 0 19.046875 \n",
       "z\n",
       "\"/>\n",
       "     </g>\n",
       "    </g>\n",
       "   </g>\n",
       "   <g id=\"text_6\">\n",
       "    <g clip-path=\"url(#p8be727f170)\">\n",
       "     <!-- $\\frac{289}{243}$ -->\n",
       "     <g transform=\"translate(155.9685 92.460019) scale(0.145 -0.145)\">\n",
       "      <defs>\n",
       "       <path id=\"DejaVuSans-38\" d=\"M 2034 2216 \n",
       "Q 1584 2216 1326 1975 \n",
       "Q 1069 1734 1069 1313 \n",
       "Q 1069 891 1326 650 \n",
       "Q 1584 409 2034 409 \n",
       "Q 2484 409 2743 651 \n",
       "Q 3003 894 3003 1313 \n",
       "Q 3003 1734 2745 1975 \n",
       "Q 2488 2216 2034 2216 \n",
       "z\n",
       "M 1403 2484 \n",
       "Q 997 2584 770 2862 \n",
       "Q 544 3141 544 3541 \n",
       "Q 544 4100 942 4425 \n",
       "Q 1341 4750 2034 4750 \n",
       "Q 2731 4750 3128 4425 \n",
       "Q 3525 4100 3525 3541 \n",
       "Q 3525 3141 3298 2862 \n",
       "Q 3072 2584 2669 2484 \n",
       "Q 3125 2378 3379 2068 \n",
       "Q 3634 1759 3634 1313 \n",
       "Q 3634 634 3220 271 \n",
       "Q 2806 -91 2034 -91 \n",
       "Q 1263 -91 848 271 \n",
       "Q 434 634 434 1313 \n",
       "Q 434 1759 690 2068 \n",
       "Q 947 2378 1403 2484 \n",
       "z\n",
       "M 1172 3481 \n",
       "Q 1172 3119 1398 2916 \n",
       "Q 1625 2713 2034 2713 \n",
       "Q 2441 2713 2670 2916 \n",
       "Q 2900 3119 2900 3481 \n",
       "Q 2900 3844 2670 4047 \n",
       "Q 2441 4250 2034 4250 \n",
       "Q 1625 4250 1398 4047 \n",
       "Q 1172 3844 1172 3481 \n",
       "z\n",
       "\" transform=\"scale(0.015625)\"/>\n",
       "       <path id=\"DejaVuSans-39\" d=\"M 703 97 \n",
       "L 703 672 \n",
       "Q 941 559 1184 500 \n",
       "Q 1428 441 1663 441 \n",
       "Q 2288 441 2617 861 \n",
       "Q 2947 1281 2994 2138 \n",
       "Q 2813 1869 2534 1725 \n",
       "Q 2256 1581 1919 1581 \n",
       "Q 1219 1581 811 2004 \n",
       "Q 403 2428 403 3163 \n",
       "Q 403 3881 828 4315 \n",
       "Q 1253 4750 1959 4750 \n",
       "Q 2769 4750 3195 4129 \n",
       "Q 3622 3509 3622 2328 \n",
       "Q 3622 1225 3098 567 \n",
       "Q 2575 -91 1691 -91 \n",
       "Q 1453 -91 1209 -44 \n",
       "Q 966 3 703 97 \n",
       "z\n",
       "M 1959 2075 \n",
       "Q 2384 2075 2632 2365 \n",
       "Q 2881 2656 2881 3163 \n",
       "Q 2881 3666 2632 3958 \n",
       "Q 2384 4250 1959 4250 \n",
       "Q 1534 4250 1286 3958 \n",
       "Q 1038 3666 1038 3163 \n",
       "Q 1038 2656 1286 2365 \n",
       "Q 1534 2075 1959 2075 \n",
       "z\n",
       "\" transform=\"scale(0.015625)\"/>\n",
       "       <path id=\"DejaVuSans-34\" d=\"M 2419 4116 \n",
       "L 825 1625 \n",
       "L 2419 1625 \n",
       "L 2419 4116 \n",
       "z\n",
       "M 2253 4666 \n",
       "L 3047 4666 \n",
       "L 3047 1625 \n",
       "L 3713 1625 \n",
       "L 3713 1100 \n",
       "L 3047 1100 \n",
       "L 3047 0 \n",
       "L 2419 0 \n",
       "L 2419 1100 \n",
       "L 313 1100 \n",
       "L 313 1709 \n",
       "L 2253 4666 \n",
       "z\n",
       "\" transform=\"scale(0.015625)\"/>\n",
       "       <path id=\"DejaVuSans-33\" d=\"M 2597 2516 \n",
       "Q 3050 2419 3304 2112 \n",
       "Q 3559 1806 3559 1356 \n",
       "Q 3559 666 3084 287 \n",
       "Q 2609 -91 1734 -91 \n",
       "Q 1441 -91 1130 -33 \n",
       "Q 819 25 488 141 \n",
       "L 488 750 \n",
       "Q 750 597 1062 519 \n",
       "Q 1375 441 1716 441 \n",
       "Q 2309 441 2620 675 \n",
       "Q 2931 909 2931 1356 \n",
       "Q 2931 1769 2642 2001 \n",
       "Q 2353 2234 1838 2234 \n",
       "L 1294 2234 \n",
       "L 1294 2753 \n",
       "L 1863 2753 \n",
       "Q 2328 2753 2575 2939 \n",
       "Q 2822 3125 2822 3475 \n",
       "Q 2822 3834 2567 4026 \n",
       "Q 2313 4219 1838 4219 \n",
       "Q 1578 4219 1281 4162 \n",
       "Q 984 4106 628 3988 \n",
       "L 628 4550 \n",
       "Q 988 4650 1302 4700 \n",
       "Q 1616 4750 1894 4750 \n",
       "Q 2613 4750 3031 4423 \n",
       "Q 3450 4097 3450 3541 \n",
       "Q 3450 3153 3228 2886 \n",
       "Q 3006 2619 2597 2516 \n",
       "z\n",
       "\" transform=\"scale(0.015625)\"/>\n",
       "      </defs>\n",
       "      <use xlink:href=\"#DejaVuSans-32\" transform=\"translate(0 45.046875) scale(0.7)\"/>\n",
       "      <use xlink:href=\"#DejaVuSans-38\" transform=\"translate(44.536133 45.046875) scale(0.7)\"/>\n",
       "      <use xlink:href=\"#DejaVuSans-39\" transform=\"translate(89.072266 45.046875) scale(0.7)\"/>\n",
       "      <use xlink:href=\"#DejaVuSans-32\" transform=\"translate(0 -39.151563) scale(0.7)\"/>\n",
       "      <use xlink:href=\"#DejaVuSans-34\" transform=\"translate(44.536133 -39.151563) scale(0.7)\"/>\n",
       "      <use xlink:href=\"#DejaVuSans-33\" transform=\"translate(89.072266 -39.151563) scale(0.7)\"/>\n",
       "      <path d=\"M 0 19.051563 \n",
       "L 0 25.301563 \n",
       "L 133.608398 25.301563 \n",
       "L 133.608398 19.051563 \n",
       "L 0 19.051563 \n",
       "z\n",
       "\"/>\n",
       "     </g>\n",
       "    </g>\n",
       "   </g>\n",
       "   <g id=\"text_7\">\n",
       "    <g clip-path=\"url(#p8be727f170)\">\n",
       "     <!-- $\\frac{27}{289}$ -->\n",
       "     <g transform=\"translate(155.9685 27.435) scale(0.145 -0.145)\">\n",
       "      <use xlink:href=\"#DejaVuSans-32\" transform=\"translate(22 44.046875) scale(0.7)\"/>\n",
       "      <use xlink:href=\"#DejaVuSans-37\" transform=\"translate(66.536133 44.046875) scale(0.7)\"/>\n",
       "      <use xlink:href=\"#DejaVuSans-32\" transform=\"translate(0 -39.15625) scale(0.7)\"/>\n",
       "      <use xlink:href=\"#DejaVuSans-38\" transform=\"translate(44.536133 -39.15625) scale(0.7)\"/>\n",
       "      <use xlink:href=\"#DejaVuSans-39\" transform=\"translate(89.072266 -39.15625) scale(0.7)\"/>\n",
       "      <path d=\"M 0 19.046875 \n",
       "L 0 25.296875 \n",
       "L 133.608398 25.296875 \n",
       "L 133.608398 19.046875 \n",
       "L 0 19.046875 \n",
       "z\n",
       "\"/>\n",
       "     </g>\n",
       "    </g>\n",
       "   </g>\n",
       "   <g id=\"text_8\">\n",
       "    <g clip-path=\"url(#p8be727f170)\">\n",
       "     <!-- $\\frac{7}{17}$ -->\n",
       "     <g transform=\"translate(202.326 170.55) scale(0.145 -0.145)\">\n",
       "      <use xlink:href=\"#DejaVuSans-37\" transform=\"translate(22 43.965625) scale(0.7)\"/>\n",
       "      <use xlink:href=\"#DejaVuSans-31\" transform=\"translate(0 -38.31875) scale(0.7)\"/>\n",
       "      <use xlink:href=\"#DejaVuSans-37\" transform=\"translate(44.536133 -38.31875) scale(0.7)\"/>\n",
       "      <path d=\"M 0 18.965625 \n",
       "L 0 25.215625 \n",
       "L 89.072266 25.215625 \n",
       "L 89.072266 18.965625 \n",
       "L 0 18.965625 \n",
       "z\n",
       "\"/>\n",
       "     </g>\n",
       "    </g>\n",
       "   </g>\n",
       "   <g id=\"patch_7\">\n",
       "    <path d=\"M 44.226 107.585 \n",
       "C 44.834641 107.585 45.418436 107.343184 45.84881 106.91281 \n",
       "C 46.279184 106.482436 46.521 105.898641 46.521 105.29 \n",
       "C 46.521 104.681359 46.279184 104.097564 45.84881 103.66719 \n",
       "C 45.418436 103.236816 44.834641 102.995 44.226 102.995 \n",
       "C 43.617359 102.995 43.033564 103.236816 42.60319 103.66719 \n",
       "C 42.172816 104.097564 41.931 104.681359 41.931 105.29 \n",
       "C 41.931 105.898641 42.172816 106.482436 42.60319 106.91281 \n",
       "C 43.033564 107.343184 43.617359 107.585 44.226 107.585 \n",
       "z\n",
       "\" clip-path=\"url(#p8be727f170)\" style=\"fill: #ffffff; stroke: #000000; stroke-width: 2; stroke-linejoin: miter\"/>\n",
       "   </g>\n",
       "   <g id=\"patch_8\">\n",
       "    <path d=\"M 44.226 229.985 \n",
       "C 44.834641 229.985 45.418436 229.743184 45.84881 229.31281 \n",
       "C 46.279184 228.882436 46.521 228.298641 46.521 227.69 \n",
       "C 46.521 227.081359 46.279184 226.497564 45.84881 226.06719 \n",
       "C 45.418436 225.636816 44.834641 225.395 44.226 225.395 \n",
       "C 43.617359 225.395 43.033564 225.636816 42.60319 226.06719 \n",
       "C 42.172816 226.497564 41.931 227.081359 41.931 227.69 \n",
       "C 41.931 228.298641 42.172816 228.882436 42.60319 229.31281 \n",
       "C 43.033564 229.743184 43.617359 229.985 44.226 229.985 \n",
       "z\n",
       "\" clip-path=\"url(#p8be727f170)\" style=\"fill: #ffffff; stroke: #000000; stroke-width: 2; stroke-linejoin: miter\"/>\n",
       "   </g>\n",
       "   <g id=\"patch_9\">\n",
       "    <path d=\"M 105.426 229.985 \n",
       "C 106.034641 229.985 106.618436 229.743184 107.04881 229.31281 \n",
       "C 107.479184 228.882436 107.721 228.298641 107.721 227.69 \n",
       "C 107.721 227.081359 107.479184 226.497564 107.04881 226.06719 \n",
       "C 106.618436 225.636816 106.034641 225.395 105.426 225.395 \n",
       "C 104.817359 225.395 104.233564 225.636816 103.80319 226.06719 \n",
       "C 103.372816 226.497564 103.131 227.081359 103.131 227.69 \n",
       "C 103.131 228.298641 103.372816 228.882436 103.80319 229.31281 \n",
       "C 104.233564 229.743184 104.817359 229.985 105.426 229.985 \n",
       "z\n",
       "\" clip-path=\"url(#p8be727f170)\" style=\"stroke: #000000; stroke-width: 2; stroke-linejoin: miter\"/>\n",
       "   </g>\n",
       "   <g id=\"patch_10\">\n",
       "    <path d=\"M 105.426 107.585 \n",
       "C 106.034641 107.585 106.618436 107.343184 107.04881 106.91281 \n",
       "C 107.479184 106.482436 107.721 105.898641 107.721 105.29 \n",
       "C 107.721 104.681359 107.479184 104.097564 107.04881 103.66719 \n",
       "C 106.618436 103.236816 106.034641 102.995 105.426 102.995 \n",
       "C 104.817359 102.995 104.233564 103.236816 103.80319 103.66719 \n",
       "C 103.372816 104.097564 103.131 104.681359 103.131 105.29 \n",
       "C 103.131 105.898641 103.372816 106.482436 103.80319 106.91281 \n",
       "C 104.233564 107.343184 104.817359 107.585 105.426 107.585 \n",
       "z\n",
       "\" clip-path=\"url(#p8be727f170)\" style=\"stroke: #000000; stroke-width: 2; stroke-linejoin: miter\"/>\n",
       "   </g>\n",
       "   <g id=\"patch_11\">\n",
       "    <path d=\"M 105.426 107.585 \n",
       "C 106.034641 107.585 106.618436 107.343184 107.04881 106.91281 \n",
       "C 107.479184 106.482436 107.721 105.898641 107.721 105.29 \n",
       "C 107.721 104.681359 107.479184 104.097564 107.04881 103.66719 \n",
       "C 106.618436 103.236816 106.034641 102.995 105.426 102.995 \n",
       "C 104.817359 102.995 104.233564 103.236816 103.80319 103.66719 \n",
       "C 103.372816 104.097564 103.131 104.681359 103.131 105.29 \n",
       "C 103.131 105.898641 103.372816 106.482436 103.80319 106.91281 \n",
       "C 104.233564 107.343184 104.817359 107.585 105.426 107.585 \n",
       "z\n",
       "\" clip-path=\"url(#p8be727f170)\" style=\"stroke: #000000; stroke-width: 2; stroke-linejoin: miter\"/>\n",
       "   </g>\n",
       "   <g id=\"patch_12\">\n",
       "    <path d=\"M 227.826 107.585 \n",
       "C 228.434641 107.585 229.018436 107.343184 229.44881 106.91281 \n",
       "C 229.879184 106.482436 230.121 105.898641 230.121 105.29 \n",
       "C 230.121 104.681359 229.879184 104.097564 229.44881 103.66719 \n",
       "C 229.018436 103.236816 228.434641 102.995 227.826 102.995 \n",
       "C 227.217359 102.995 226.633564 103.236816 226.20319 103.66719 \n",
       "C 225.772816 104.097564 225.531 104.681359 225.531 105.29 \n",
       "C 225.531 105.898641 225.772816 106.482436 226.20319 106.91281 \n",
       "C 226.633564 107.343184 227.217359 107.585 227.826 107.585 \n",
       "z\n",
       "\" clip-path=\"url(#p8be727f170)\" style=\"stroke: #000000; stroke-width: 2; stroke-linejoin: miter\"/>\n",
       "   </g>\n",
       "   <g id=\"patch_13\">\n",
       "    <path d=\"M 227.826 229.985 \n",
       "C 228.434641 229.985 229.018436 229.743184 229.44881 229.31281 \n",
       "C 229.879184 228.882436 230.121 228.298641 230.121 227.69 \n",
       "C 230.121 227.081359 229.879184 226.497564 229.44881 226.06719 \n",
       "C 229.018436 225.636816 228.434641 225.395 227.826 225.395 \n",
       "C 227.217359 225.395 226.633564 225.636816 226.20319 226.06719 \n",
       "C 225.772816 226.497564 225.531 227.081359 225.531 227.69 \n",
       "C 225.531 228.298641 225.772816 228.882436 226.20319 229.31281 \n",
       "C 226.633564 229.743184 227.217359 229.985 227.826 229.985 \n",
       "z\n",
       "\" clip-path=\"url(#p8be727f170)\" style=\"stroke: #000000; stroke-width: 2; stroke-linejoin: miter\"/>\n",
       "   </g>\n",
       "   <g id=\"patch_14\">\n",
       "    <path d=\"M 227.826 107.585 \n",
       "C 228.434641 107.585 229.018436 107.343184 229.44881 106.91281 \n",
       "C 229.879184 106.482436 230.121 105.898641 230.121 105.29 \n",
       "C 230.121 104.681359 229.879184 104.097564 229.44881 103.66719 \n",
       "C 229.018436 103.236816 228.434641 102.995 227.826 102.995 \n",
       "C 227.217359 102.995 226.633564 103.236816 226.20319 103.66719 \n",
       "C 225.772816 104.097564 225.531 104.681359 225.531 105.29 \n",
       "C 225.531 105.898641 225.772816 106.482436 226.20319 106.91281 \n",
       "C 226.633564 107.343184 227.217359 107.585 227.826 107.585 \n",
       "z\n",
       "\" clip-path=\"url(#p8be727f170)\" style=\"stroke: #000000; stroke-width: 2; stroke-linejoin: miter\"/>\n",
       "   </g>\n",
       "  </g>\n",
       " </g>\n",
       " <defs>\n",
       "  <clipPath id=\"p8be727f170\">\n",
       "   <rect x=\"7.2\" y=\"7.2\" width=\"235.926\" height=\"225.845\"/>\n",
       "  </clipPath>\n",
       " </defs>\n",
       "</svg>\n"
      ],
      "text/plain": [
       "<schemdraw.schemdraw.Drawing at 0x7f48dda18850>"
      ]
     },
     "metadata": {},
     "output_type": "display_data"
    },
    {
     "name": "stdout",
     "output_type": "stream",
     "text": [
      "\n",
      "///////////////////////////////////////////////////////////////////////////\n",
      "///////////////////////////////////////////////////////////////////////////\n",
      "\n",
      "Calculos de verificacion\n"
     ]
    },
    {
     "data": {
      "text/latex": [
       "$\\displaystyle YY{1}=\\left[\\begin{matrix}Ya + Yb & - Yb\\\\- Yb & Yb + Yc\\end{matrix}\\right]$"
      ],
      "text/plain": [
       "<IPython.core.display.Math object>"
      ]
     },
     "metadata": {},
     "output_type": "display_data"
    },
    {
     "name": "stdout",
     "output_type": "stream",
     "text": [
      "\n",
      "///////////////////////////////////////////////////////////////////////////\n",
      "\n"
     ]
    },
    {
     "data": {
      "text/latex": [
       "$\\displaystyle YY_{T}=\\left[\\begin{matrix}\\frac{146 s^{2} + 243}{289 s} & \\frac{27 \\left(- s^{2} - 9\\right)}{289 s}\\\\\\frac{27 \\left(- s^{2} - 9\\right)}{289 s} & \\frac{243 \\cdot \\left(2 s^{2} + 1\\right)}{289 s}\\end{matrix}\\right]$"
      ],
      "text/plain": [
       "<IPython.core.display.Math object>"
      ]
     },
     "metadata": {},
     "output_type": "display_data"
    },
    {
     "name": "stdout",
     "output_type": "stream",
     "text": [
      "\n",
      "///////////////////////////////////////////////////////////////////////////\n",
      "\n"
     ]
    },
    {
     "data": {
      "text/latex": [
       "$\\displaystyle ZZ_{11}=\\frac{2 s^{2} + 1}{s \\left(s^{2} + 2\\right)}$"
      ],
      "text/plain": [
       "<IPython.core.display.Math object>"
      ]
     },
     "metadata": {},
     "output_type": "display_data"
    },
    {
     "data": {
      "text/latex": [
       "$\\displaystyle ZZ_{12}=\\frac{683 s^{4} + 394 s^{2} + 243}{27 s \\left(s^{2} + 2\\right) \\left(s^{2} + 9\\right)}$"
      ],
      "text/plain": [
       "<IPython.core.display.Math object>"
      ]
     },
     "metadata": {},
     "output_type": "display_data"
    },
    {
     "data": {
      "text/latex": [
       "$\\displaystyle ZZ_{21}=\\frac{s^{2} + 9}{9 s \\left(s^{2} + 2\\right)}$"
      ],
      "text/plain": [
       "<IPython.core.display.Math object>"
      ]
     },
     "metadata": {},
     "output_type": "display_data"
    },
    {
     "data": {
      "text/latex": [
       "$\\displaystyle ZZ_{22}=\\frac{2 s^{2} + 1}{s \\left(s^{2} + 2\\right)}$"
      ],
      "text/plain": [
       "<IPython.core.display.Math object>"
      ]
     },
     "metadata": {},
     "output_type": "display_data"
    },
    {
     "data": {
      "text/latex": [
       "$\\displaystyle \\frac{V_2}{I_1}(s)=\\frac{s^{2} + 9}{9 \\left(s + 1\\right) \\left(s^{2} + s + 1\\right)}$"
      ],
      "text/plain": [
       "<IPython.core.display.Math object>"
      ]
     },
     "metadata": {},
     "output_type": "display_data"
    },
    {
     "data": {
      "text/plain": [
       "[[1,\n",
       "  array([<Axes: title={'center': 'Respuesta de Magnitud'}, ylabel='Magnitud [dB]'>,\n",
       "         <Axes: title={'center': 'Respuesta de Fase'}, xlabel='Frecuencia angular [rad/seg]', ylabel='Fase [rad]'>],\n",
       "        dtype=object)],\n",
       " [2, <Axes: xlabel='$\\\\sigma$', ylabel='j$\\\\omega$'>],\n",
       " [3, []],\n",
       " [4,\n",
       "  <Axes: title={'center': 'Retardo de grupo'}, xlabel='Frecuencia angular [rad/seg]', ylabel='Retardo de grupo [seg]'>]]"
      ]
     },
     "execution_count": 2,
     "metadata": {},
     "output_type": "execute_result"
    },
    {
     "data": {
      "image/png": "[encoded data removed]",
      "text/plain": [
       "<Figure size 640x480 with 2 Axes>"
      ]
     },
     "metadata": {},
     "output_type": "display_data"
    },
    {
     "data": {
      "image/png": "[encoded data removed]",
      "text/plain": [
       "<Figure size 640x480 with 1 Axes>"
      ]
     },
     "metadata": {},
     "output_type": "display_data"
    },
    {
     "data": {
      "image/png": "[encoded data removed]",
      "text/plain": [
       "<Figure size 640x480 with 1 Axes>"
      ]
     },
     "metadata": {},
     "output_type": "display_data"
    }
   ],
   "source": [
    "#!/usr/bin/env python3\n",
    "# -*- coding: utf-8 -*-\n",
    "import sympy as sp\n",
    "from sympy import symbols, Matrix\n",
    "from sympy import init_printing\n",
    "from sympy import simplify\n",
    "from sympy import symbols, expand, factor\n",
    "from pytc2.general import to_latex\n",
    "\n",
    "from schemdraw import Drawing\n",
    "\n",
    "# Ahora importamos las funciones de PyTC2\n",
    "\n",
    "from pytc2.remociones import remover_polo_dc, remover_polo_jw , remover_polo_jw2 ,remover_polo_infinito , remover_polo_dc2 , remover_polo_infinito2\n",
    "from pytc2.dibujar import display, dibujar_tanque_serie, dibujar_puerto_entrada, dibujar_funcion_exc_abajo,  dibujar_elemento_serie, dibujar_elemento_derivacion,  dibujar_tanque_derivacion, dibujar_tanque_RC_serie,  dibujar_espacio_derivacion, Capacitor, Resistor, ResistorIEC\n",
    "from pytc2.dibujar import dibujar_Pi, dibujar_Tee, dibujar_lattice\n",
    "\n",
    "from pytc2.general import print_latex, print_subtitle, a_equal_b_latex_s\n",
    "from IPython.display import display,  Markdown\n",
    "\n",
    "from pytc2.cuadripolos import Z2Tabcd_s, Y2Tabcd_s, Tabcd2Z_s, Tabcd2Y_s\n",
    "from pytc2.cuadripolos import calc_MAI_impedance_ij, calc_MAI_vtransf_ij_mn, calc_MAI_ztransf_ij_mn\n",
    "\n",
    "import scipy.signal as sig\n",
    "from pytc2.sistemas_lineales import analyze_sys\n",
    "\n",
    "\n",
    "\n",
    "patron = \"\\n\" + \"/\" * 75 + \"\\n\" # 75 barras para ajustar el largo deseado\n",
    "# Activar la impresión en formato LaTeX\n",
    "init_printing()\n",
    "# Definir la variable simbólica s\n",
    "s = sp.symbols('s',complex=True)\n",
    "R = sp.symbols('R')\n",
    "\n",
    "# Definir la función de transferencia H(s)\n",
    "numerador = (s**2 + 9)\n",
    "denominador = s*(s**2 + 2)\n",
    "Z21 = numerador / denominador\n",
    "\n",
    "print_latex(a_equal_b_latex_s('Z21(s)', Z21))\n",
    "\n",
    "##/////////////////////////////////////////////////////////////////////////////\n",
    "\n",
    "numerador = (2*s**2 + 1)\n",
    "denominador = s*(s**2 + 2)\n",
    "Z22= numerador / denominador\n",
    "\n",
    "print_latex(a_equal_b_latex_s('Z22(s)', Z22))\n",
    "print(patron)\n",
    "\n",
    "##/////////////////////////////////////////////////////////////////////////////\n",
    "##/////////////////////////////////////////////////////////////////////////////\n",
    "\n",
    "Y2, Yt1  = remover_polo_infinito(1/Z22, omega_zero=3)\n",
    "C1 = Yt1/s\n",
    "C1 = sp.nsimplify(C1)\n",
    "Y2 = sp.nsimplify(sp.factor(Y2))\n",
    "Yt3 = sp.nsimplify(sp.factor(Yt1))\n",
    "\n",
    "print_latex(a_equal_b_latex_s('C1', C1))\n",
    "print_latex(a_equal_b_latex_s('Yt1(s)', Yt1))\n",
    "print_latex(a_equal_b_latex_s('Y2(s)', Y2))\n",
    "print(patron)\n",
    "\n",
    "##/////////////////////////////////////////////////////////////////////////////\n",
    "##/////////////////////////////////////////////////////////////////////////////\n",
    "\n",
    "Z4, Zt3 , L2, C2 = remover_polo_jw(1/Y2, omega=3, isImpedance=True)\n",
    "L2 = sp.nsimplify(L2)\n",
    "C2 = sp.nsimplify(C2)\n",
    "Z4 = sp.nsimplify(sp.factor(Z4))\n",
    "Zt3 = sp.nsimplify(sp.factor(Zt3))\n",
    "\n",
    "print_latex(a_equal_b_latex_s('L2', L2))\n",
    "print_latex(a_equal_b_latex_s('C2', C2))\n",
    "print_latex(a_equal_b_latex_s('Zt3(s)', Zt3))\n",
    "print_latex(a_equal_b_latex_s('Z4(s)', Z4))\n",
    "print(patron)\n",
    "\n",
    "##/////////////////////////////////////////////////////////////////////////////\n",
    "##/////////////////////////////////////////////////////////////////////////////\n",
    "\n",
    "Y6, Yt5  = remover_polo_infinito(1/Z4 , isSigma=False)\n",
    "C3 = Yt5/s\n",
    "C3 = sp.nsimplify(C3)\n",
    "Y6 = sp.nsimplify(sp.factor(Y6))\n",
    "Yt5 = sp.nsimplify(sp.factor(Yt5))\n",
    "\n",
    "print_latex(a_equal_b_latex_s('C3', C3))\n",
    "print_latex(a_equal_b_latex_s('Yt5(s)', Yt5))\n",
    "print_latex(a_equal_b_latex_s('Y6(s)', Y6))\n",
    "\n",
    "##/////////////////////////////////////////////////////////////////////////////\n",
    "##/////////////////////////////////////////////////////////////////////////////\n",
    "##/////////////////////////////////////////////////////////////////////////////\n",
    "##/////////////////////////////////////////////////////////////////////////////\n",
    "\n",
    "# Dibujamos la red resultante:\n",
    "\n",
    "d = dibujar_puerto_entrada(Drawing(unit=4),\n",
    "                        voltage_lbl = ('+', '$V$', '-'), \n",
    "                        current_lbl = '$I$')\n",
    "\n",
    "\n",
    "d = dibujar_elemento_derivacion(d, 'C', C3)\n",
    "\n",
    "d = dibujar_tanque_serie(d, L2, C2 )\n",
    "\n",
    "d = dibujar_elemento_derivacion(d, 'C', C1)\n",
    "\n",
    "display(d)\n",
    "\n",
    "##/////////////////////////////////////////////////////////////////////////////\n",
    "##/////////////////////////////////////////////////////////////////////////////\n",
    "##/////////////////////////////////////////////////////////////////////////////\n",
    "##/////////////////////////////////////////////////////////////////////////////\n",
    "print(\"\\n\" + \"/\" * 75)\n",
    "print(\"/\" * 75 + \"\\n\")\n",
    "\n",
    "print('Calculos de verificacion')\n",
    "\n",
    "Ya , Yb , Yc = sp.symbols('Ya , Yb , Yc', complex=True)\n",
    "\n",
    "\n",
    "YY = sp.Matrix([[ Ya + Yb , -Yb ], [ -Yb , Yb + Yc ]])\n",
    "\n",
    "\n",
    "print_latex(a_equal_b_latex_s('YY{1}', YY))\n",
    "\n",
    "print(patron)\n",
    "\n",
    "YY_sym = sp.simplify(YY.subs(Ya, s*C1 ) ) \n",
    "YY_sym = sp.simplify(YY_sym.subs(Yb, 1/(s*L2) + C2*s ))\n",
    "YY_sym = sp.simplify(YY_sym.subs(Yc, s*C3 ) )\n",
    "\n",
    "print_latex(a_equal_b_latex_s('YY_{T}', YY_sym) )\n",
    "\n",
    "TT = Y2Tabcd_s (YY_sym)\n",
    "\n",
    "ZZ = Tabcd2Z_s (TT)\n",
    "\n",
    "Z11 = sp.factor(sp.simplify(sp.expand(ZZ[0])))\n",
    "Z12 = sp.factor(sp.simplify(sp.expand(ZZ[1])))\n",
    "Z21 = sp.factor(sp.simplify(sp.expand(ZZ[2])))\n",
    "Z22 = sp.factor(sp.simplify(sp.expand(ZZ[3])))\n",
    "\n",
    "print(patron)\n",
    "\n",
    "print_latex(a_equal_b_latex_s('ZZ_{11}', Z11 ) )\n",
    "\n",
    "print_latex(a_equal_b_latex_s('ZZ_{12}', Z12 ) )\n",
    "\n",
    "print_latex(a_equal_b_latex_s('ZZ_{21}', Z21 ) )\n",
    "\n",
    "print_latex(a_equal_b_latex_s('ZZ_{22}', Z22) )\n",
    "\n",
    "print_latex(a_equal_b_latex_s('\\\\frac{V_2}{I_1}(s)', sp.factor(Z21/(1+Z22))))\n",
    "\n",
    "H = sig.TransferFunction( [1, 0, 9], [1, 2, 2, 1] )\n",
    "\n",
    "analyze_sys(H)"
   ]
  },
  {
   "cell_type": "markdown",
   "metadata": {},
   "source": [
    "## Conclusiones y Reflexiones\n",
    "La **síntesis de cuadripolos simplemente cargados** es una técnica enfocada en cuadripolos conectados a una carga específica. Estos sistemas facilitan la transferencia de señales y energía, siendo útiles en telecomunicaciones y circuitos de control. Su simplicidad permite una implementación práctica, resaltando la necesidad de soluciones eficientes que minimicen pérdidas y distorsiones en los sistemas eléctricos."
   ]
  }
 ],
 "metadata": {
  "kernelspec": {
   "display_name": "Python 3 (ipykernel)",
   "language": "python",
   "name": "python3"
  },
  "language_info": {
   "codemirror_mode": {
    "name": "ipython",
    "version": 3
   },
   "file_extension": ".py",
   "mimetype": "text/x-python",
   "name": "python",
   "nbconvert_exporter": "python",
   "pygments_lexer": "ipython3",
   "version": "3.10.12"
  }
 },
 "nbformat": 4,
 "nbformat_minor": 4
}
